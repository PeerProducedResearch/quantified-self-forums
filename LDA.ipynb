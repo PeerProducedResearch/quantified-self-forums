{
 "cells": [
  {
   "cell_type": "code",
   "execution_count": 9,
   "metadata": {
    "cell_id": "00000-6b94a32b-397b-4af8-9a9b-4c6bf098a993",
    "deepnote_cell_type": "code",
    "deepnote_to_be_reexecuted": false,
    "execution_millis": 78,
    "execution_start": 1621937154015,
    "scrolled": true,
    "source_hash": "94a0bf76",
    "tags": []
   },
   "outputs": [],
   "source": [
    "import re\n",
    "import numpy as np\n",
    "import pandas as pd\n",
    "from pprint import pprint\n",
    "import unicodedata\n",
    "\n",
    "# Gensim\n",
    "import gensim\n",
    "import gensim.corpora as corpora\n",
    "from gensim.utils import simple_preprocess\n",
    "from gensim.models import CoherenceModel\n",
    "\n",
    "# spacy for lemmatization\n",
    "import spacy\n",
    "\n",
    "# Plotting tools\n",
    "import pyLDAvis\n",
    "import pyLDAvis.gensim_models  # don't skip this\n",
    "import matplotlib.pyplot as plt\n",
    "%matplotlib inline\n",
    "\n",
    "# Enable logging for gensim - optional\n",
    "import logging\n",
    "logging.basicConfig(format='%(asctime)s : %(levelname)s : %(message)s', level=logging.ERROR)\n",
    "\n",
    "import warnings\n",
    "warnings.filterwarnings(\"ignore\",category=DeprecationWarning)"
   ]
  },
  {
   "cell_type": "markdown",
   "metadata": {},
   "source": [
    "# I - Read Data "
   ]
  },
  {
   "cell_type": "code",
   "execution_count": 2,
   "metadata": {
    "cell_id": "00001-bc744504-f17d-446c-a5a1-02745fee9a27",
    "deepnote_cell_type": "code",
    "deepnote_to_be_reexecuted": false,
    "execution_millis": 375,
    "execution_start": 1621932010142,
    "scrolled": true,
    "source_hash": "a8364dce",
    "tags": []
   },
   "outputs": [
    {
     "data": {
      "text/html": [
       "<div>\n",
       "<style scoped>\n",
       "    .dataframe tbody tr th:only-of-type {\n",
       "        vertical-align: middle;\n",
       "    }\n",
       "\n",
       "    .dataframe tbody tr th {\n",
       "        vertical-align: top;\n",
       "    }\n",
       "\n",
       "    .dataframe thead th {\n",
       "        text-align: right;\n",
       "    }\n",
       "</style>\n",
       "<table border=\"1\" class=\"dataframe\">\n",
       "  <thead>\n",
       "    <tr style=\"text-align: right;\">\n",
       "      <th></th>\n",
       "      <th>id</th>\n",
       "      <th>user_id</th>\n",
       "      <th>created_at</th>\n",
       "      <th>cooked</th>\n",
       "      <th>post_number</th>\n",
       "      <th>updated_at</th>\n",
       "      <th>reply_count</th>\n",
       "      <th>reply_to_post_number</th>\n",
       "      <th>quote_count</th>\n",
       "      <th>incoming_link_count</th>\n",
       "      <th>...</th>\n",
       "      <th>noHTML_text</th>\n",
       "      <th>lemma_LDA_text</th>\n",
       "      <th>no_sw_LDA_text</th>\n",
       "      <th>token_NN_text</th>\n",
       "      <th>creation_date</th>\n",
       "      <th>creation_year</th>\n",
       "      <th>number_of_words</th>\n",
       "      <th>date_time</th>\n",
       "      <th>date_year</th>\n",
       "      <th>date_month</th>\n",
       "    </tr>\n",
       "  </thead>\n",
       "  <tbody>\n",
       "    <tr>\n",
       "      <th>0</th>\n",
       "      <td>6997.0</td>\n",
       "      <td>884</td>\n",
       "      <td>2016-03-14 17:40:17.744000+00:00</td>\n",
       "      <td>&lt;p&gt;The size of the mask plus electronics is ra...</td>\n",
       "      <td>3.0</td>\n",
       "      <td>2016-03-14 17:40:42.276000+00:00</td>\n",
       "      <td>1.0</td>\n",
       "      <td>2.0</td>\n",
       "      <td>0.0</td>\n",
       "      <td>10.0</td>\n",
       "      <td>...</td>\n",
       "      <td>The size of the mask plus electronics is rath...</td>\n",
       "      <td>mask electronics material mask sweat issue str...</td>\n",
       "      <td>mask electronics material mask sweat issue str...</td>\n",
       "      <td>['mask', 'electronics', 'material', 'mask', 's...</td>\n",
       "      <td>2016-03-14</td>\n",
       "      <td>2016</td>\n",
       "      <td>63</td>\n",
       "      <td>2016-03-14</td>\n",
       "      <td>2016</td>\n",
       "      <td>2016-03</td>\n",
       "    </tr>\n",
       "    <tr>\n",
       "      <th>1</th>\n",
       "      <td>3798.0</td>\n",
       "      <td>884</td>\n",
       "      <td>2014-02-24 22:58:11+00:00</td>\n",
       "      <td>&lt;aside class=\"quote no-group quote-modified\" d...</td>\n",
       "      <td>4.0</td>\n",
       "      <td>2015-10-21 04:24:48.934000+00:00</td>\n",
       "      <td>0.0</td>\n",
       "      <td>NaN</td>\n",
       "      <td>1.0</td>\n",
       "      <td>0.0</td>\n",
       "      <td>...</td>\n",
       "      <td>\\n \\n  \\n  Agaricus: \\n \\n For “restedness” I...</td>\n",
       "      <td>agaricus restedness point scale cover range fo...</td>\n",
       "      <td>agaricus restedness point scale cover range fo...</td>\n",
       "      <td>['agaricus', 'restedness', 'point', 'scale', '...</td>\n",
       "      <td>2014-02-24</td>\n",
       "      <td>2014</td>\n",
       "      <td>144</td>\n",
       "      <td>2014-02-24</td>\n",
       "      <td>2014</td>\n",
       "      <td>2014-02</td>\n",
       "    </tr>\n",
       "    <tr>\n",
       "      <th>2</th>\n",
       "      <td>8586.0</td>\n",
       "      <td>884</td>\n",
       "      <td>2016-11-05 13:46:33.686000+00:00</td>\n",
       "      <td>&lt;p&gt;The &lt;a href=\"https://biostrap.com\"&gt;Biostrap...</td>\n",
       "      <td>15.0</td>\n",
       "      <td>2016-11-05 13:47:19.301000+00:00</td>\n",
       "      <td>1.0</td>\n",
       "      <td>NaN</td>\n",
       "      <td>0.0</td>\n",
       "      <td>20.0</td>\n",
       "      <td>...</td>\n",
       "      <td>The  Biostrap  looks promising (and is shippi...</td>\n",
       "      <td>biostrap claim offer hr ppg sensor hrv rest re...</td>\n",
       "      <td>biostrap claim offer hr ppg sensor hrv rest re...</td>\n",
       "      <td>['biostrap', 'claim', 'offer', 'hr', 'ppg', 's...</td>\n",
       "      <td>2016-11-05</td>\n",
       "      <td>2016</td>\n",
       "      <td>96</td>\n",
       "      <td>2016-11-05</td>\n",
       "      <td>2016</td>\n",
       "      <td>2016-11</td>\n",
       "    </tr>\n",
       "    <tr>\n",
       "      <th>3</th>\n",
       "      <td>7124.0</td>\n",
       "      <td>884</td>\n",
       "      <td>2016-04-14 13:50:17.159000+00:00</td>\n",
       "      <td>&lt;p&gt;I’ve &lt;a href=\"http://www.quantifiedbob.com/...</td>\n",
       "      <td>1.0</td>\n",
       "      <td>2016-04-14 13:50:17.159000+00:00</td>\n",
       "      <td>0.0</td>\n",
       "      <td>NaN</td>\n",
       "      <td>0.0</td>\n",
       "      <td>878.0</td>\n",
       "      <td>...</td>\n",
       "      <td>I’ve  posted a lengthy writeup of my recent e...</td>\n",
       "      <td>experience diet study cell metabolism institut...</td>\n",
       "      <td>experience diet study cell metabolism institut...</td>\n",
       "      <td>['experience', 'diet', 'study', 'cell', 'metab...</td>\n",
       "      <td>2016-04-14</td>\n",
       "      <td>2016</td>\n",
       "      <td>216</td>\n",
       "      <td>2016-04-14</td>\n",
       "      <td>2016</td>\n",
       "      <td>2016-04</td>\n",
       "    </tr>\n",
       "    <tr>\n",
       "      <th>4</th>\n",
       "      <td>8707.0</td>\n",
       "      <td>884</td>\n",
       "      <td>2016-11-15 18:36:40.786000+00:00</td>\n",
       "      <td>&lt;p&gt;Personally, I want to be able to access tim...</td>\n",
       "      <td>6.0</td>\n",
       "      <td>2016-11-15 18:36:40.786000+00:00</td>\n",
       "      <td>1.0</td>\n",
       "      <td>NaN</td>\n",
       "      <td>0.0</td>\n",
       "      <td>4.0</td>\n",
       "      <td>...</td>\n",
       "      <td>Personally, I want to be able to access time ...</td>\n",
       "      <td>access series data breath tempo second second ...</td>\n",
       "      <td>access series data breath tempo second second ...</td>\n",
       "      <td>['access', 'series', 'data', 'breath', 'tempo'...</td>\n",
       "      <td>2016-11-15</td>\n",
       "      <td>2016</td>\n",
       "      <td>34</td>\n",
       "      <td>2016-11-15</td>\n",
       "      <td>2016</td>\n",
       "      <td>2016-11</td>\n",
       "    </tr>\n",
       "  </tbody>\n",
       "</table>\n",
       "<p>5 rows × 53 columns</p>\n",
       "</div>"
      ],
      "text/plain": [
       "       id  user_id                        created_at  \\\n",
       "0  6997.0      884  2016-03-14 17:40:17.744000+00:00   \n",
       "1  3798.0      884         2014-02-24 22:58:11+00:00   \n",
       "2  8586.0      884  2016-11-05 13:46:33.686000+00:00   \n",
       "3  7124.0      884  2016-04-14 13:50:17.159000+00:00   \n",
       "4  8707.0      884  2016-11-15 18:36:40.786000+00:00   \n",
       "\n",
       "                                              cooked  post_number  \\\n",
       "0  <p>The size of the mask plus electronics is ra...          3.0   \n",
       "1  <aside class=\"quote no-group quote-modified\" d...          4.0   \n",
       "2  <p>The <a href=\"https://biostrap.com\">Biostrap...         15.0   \n",
       "3  <p>I’ve <a href=\"http://www.quantifiedbob.com/...          1.0   \n",
       "4  <p>Personally, I want to be able to access tim...          6.0   \n",
       "\n",
       "                         updated_at  reply_count  reply_to_post_number  \\\n",
       "0  2016-03-14 17:40:42.276000+00:00          1.0                   2.0   \n",
       "1  2015-10-21 04:24:48.934000+00:00          0.0                   NaN   \n",
       "2  2016-11-05 13:47:19.301000+00:00          1.0                   NaN   \n",
       "3  2016-04-14 13:50:17.159000+00:00          0.0                   NaN   \n",
       "4  2016-11-15 18:36:40.786000+00:00          1.0                   NaN   \n",
       "\n",
       "   quote_count  incoming_link_count  ...  \\\n",
       "0          0.0                 10.0  ...   \n",
       "1          1.0                  0.0  ...   \n",
       "2          0.0                 20.0  ...   \n",
       "3          0.0                878.0  ...   \n",
       "4          0.0                  4.0  ...   \n",
       "\n",
       "                                         noHTML_text  \\\n",
       "0   The size of the mask plus electronics is rath...   \n",
       "1   \\n \\n  \\n  Agaricus: \\n \\n For “restedness” I...   \n",
       "2   The  Biostrap  looks promising (and is shippi...   \n",
       "3   I’ve  posted a lengthy writeup of my recent e...   \n",
       "4   Personally, I want to be able to access time ...   \n",
       "\n",
       "                                      lemma_LDA_text  \\\n",
       "0  mask electronics material mask sweat issue str...   \n",
       "1  agaricus restedness point scale cover range fo...   \n",
       "2  biostrap claim offer hr ppg sensor hrv rest re...   \n",
       "3  experience diet study cell metabolism institut...   \n",
       "4  access series data breath tempo second second ...   \n",
       "\n",
       "                                      no_sw_LDA_text  \\\n",
       "0  mask electronics material mask sweat issue str...   \n",
       "1  agaricus restedness point scale cover range fo...   \n",
       "2  biostrap claim offer hr ppg sensor hrv rest re...   \n",
       "3  experience diet study cell metabolism institut...   \n",
       "4  access series data breath tempo second second ...   \n",
       "\n",
       "                                       token_NN_text creation_date  \\\n",
       "0  ['mask', 'electronics', 'material', 'mask', 's...    2016-03-14   \n",
       "1  ['agaricus', 'restedness', 'point', 'scale', '...    2014-02-24   \n",
       "2  ['biostrap', 'claim', 'offer', 'hr', 'ppg', 's...    2016-11-05   \n",
       "3  ['experience', 'diet', 'study', 'cell', 'metab...    2016-04-14   \n",
       "4  ['access', 'series', 'data', 'breath', 'tempo'...    2016-11-15   \n",
       "\n",
       "  creation_year number_of_words   date_time  date_year  date_month  \n",
       "0          2016              63  2016-03-14       2016     2016-03  \n",
       "1          2014             144  2014-02-24       2014     2014-02  \n",
       "2          2016              96  2016-11-05       2016     2016-11  \n",
       "3          2016             216  2016-04-14       2016     2016-04  \n",
       "4          2016              34  2016-11-15       2016     2016-11  \n",
       "\n",
       "[5 rows x 53 columns]"
      ]
     },
     "execution_count": 2,
     "metadata": {},
     "output_type": "execute_result"
    }
   ],
   "source": [
    "global_df = pd.read_csv('datasets/global_df.csv')"
   ]
  },
  {
   "cell_type": "code",
   "execution_count": 3,
   "metadata": {},
   "outputs": [],
   "source": [
    "global_df = global_df.iloc[global_df.astype(str).drop_duplicates().index]"
   ]
  },
  {
   "cell_type": "code",
   "execution_count": 4,
   "metadata": {
    "cell_id": "00003-a437f15c-c8c8-4d51-ad5f-80e31f967c19",
    "deepnote_cell_type": "code",
    "deepnote_to_be_reexecuted": false,
    "execution_millis": 5,
    "execution_start": 1621932780227,
    "source_hash": "9025129f",
    "tags": []
   },
   "outputs": [
    {
     "data": {
      "text/plain": [
       "(10282, 53)"
      ]
     },
     "execution_count": 4,
     "metadata": {},
     "output_type": "execute_result"
    }
   ],
   "source": [
    "# getting rows with topic/post content\n",
    "\n",
    "global_df = global_df[global_df.cooked != '0']"
   ]
  },
  {
   "cell_type": "markdown",
   "metadata": {},
   "source": [
    "### Clean Text"
   ]
  },
  {
   "cell_type": "code",
   "execution_count": 5,
   "metadata": {},
   "outputs": [],
   "source": [
    "# Remove html code <p>\n",
    "def remove_html(text):\n",
    "    pattern = re.compile('<[^<]+?>')\n",
    "    text = re.sub(pattern, ' ', text)\n",
    "    return text"
   ]
  },
  {
   "cell_type": "code",
   "execution_count": 6,
   "metadata": {},
   "outputs": [],
   "source": [
    "global_df['noHTML_text'] = global_df.cooked.apply(lambda x: remove_html(x))"
   ]
  },
  {
   "cell_type": "code",
   "execution_count": 7,
   "metadata": {},
   "outputs": [],
   "source": [
    "# Function to clean text\n",
    "\n",
    "def clean_text(text):\n",
    "    \n",
    "    # Remove html code <p>\n",
    "    pattern = re.compile('<[^<]+?>')\n",
    "    text = re.sub(pattern, ' ', text)\n",
    "    \n",
    "    # Remove hyperlinks\n",
    "    text = re.sub(r'https?:\\/\\/\\S+','',text)\n",
    "    \n",
    "    # lowercase\n",
    "    text =text.lower()\n",
    "    \n",
    "\n",
    "    # Remove ticks, apostrophes and letters after \" 's \"\n",
    "    text = re.sub(\"\\’\\w+\", '', text)\n",
    "    text = re.sub(\"\\'\\w+\", '', text)\n",
    "    \n",
    "    \n",
    "    # Remove all types of nums\n",
    "    text = re.sub(r'\\b\\d+(?:\\.\\d+)?\\s+', '', text)\n",
    "    text = re.sub(r\"\\b\\d+\\b\", ' ', text)\n",
    "    \n",
    "    # Remove specific punctuations\n",
    "    text = re.sub('[^A-Za-z0-9]+', ' ', text)\n",
    "    \n",
    "    # Remove accents \"é\"\n",
    "    text = unicodedata.normalize('NFKD', text).encode('ascii', 'ignore').decode('utf-8', 'ignore')\n",
    "    \n",
    "    # remove the hashtag symbol #\n",
    "    text = re.sub(r'#','',text)\n",
    "   # text = re.sub(r'[-./]', ' ', text)\n",
    "    \n",
    "    return text"
   ]
  },
  {
   "cell_type": "code",
   "execution_count": 10,
   "metadata": {
    "scrolled": false
   },
   "outputs": [
    {
     "data": {
      "text/html": [
       "<div>\n",
       "<style scoped>\n",
       "    .dataframe tbody tr th:only-of-type {\n",
       "        vertical-align: middle;\n",
       "    }\n",
       "\n",
       "    .dataframe tbody tr th {\n",
       "        vertical-align: top;\n",
       "    }\n",
       "\n",
       "    .dataframe thead th {\n",
       "        text-align: right;\n",
       "    }\n",
       "</style>\n",
       "<table border=\"1\" class=\"dataframe\">\n",
       "  <thead>\n",
       "    <tr style=\"text-align: right;\">\n",
       "      <th></th>\n",
       "      <th>cooked</th>\n",
       "      <th>cleaned_text</th>\n",
       "    </tr>\n",
       "  </thead>\n",
       "  <tbody>\n",
       "    <tr>\n",
       "      <th>0</th>\n",
       "      <td>&lt;p&gt;The size of the mask plus electronics is rather bulky and the foam material on the underside of the mask sometimes makes my forehead sweat so I’m guessing the slippage issue/waking me up is being caused by this.&lt;/p&gt;\\n&lt;p&gt;The mask has an elastic strap, but unfortunately it’s non-adjustable. I’m...</td>\n",
       "      <td>the size of the mask plus electronics is rather bulky and the foam material on the underside of the mask sometimes makes my forehead sweat so i guessing the slippage issue waking me up is being caused by this the mask has an elastic strap but unfortunately it non adjustable i thinking about cut...</td>\n",
       "    </tr>\n",
       "  </tbody>\n",
       "</table>\n",
       "</div>"
      ],
      "text/plain": [
       "                                                                                                                                                                                                                                                                                                        cooked  \\\n",
       "0  <p>The size of the mask plus electronics is rather bulky and the foam material on the underside of the mask sometimes makes my forehead sweat so I’m guessing the slippage issue/waking me up is being caused by this.</p>\\n<p>The mask has an elastic strap, but unfortunately it’s non-adjustable. I’m...   \n",
       "\n",
       "                                                                                                                                                                                                                                                                                                  cleaned_text  \n",
       "0   the size of the mask plus electronics is rather bulky and the foam material on the underside of the mask sometimes makes my forehead sweat so i guessing the slippage issue waking me up is being caused by this the mask has an elastic strap but unfortunately it non adjustable i thinking about cut...  "
      ]
     },
     "execution_count": 10,
     "metadata": {},
     "output_type": "execute_result"
    }
   ],
   "source": [
    "global_df['cleaned_text'] = global_df.cooked.apply(lambda x: clean_text(x))\n",
    "\n",
    "# Compare between Original Text & Clean Text\n",
    "\n",
    "pd.options.display.max_colwidth = 300\n",
    "global_df[['cooked', 'cleaned_text']].head(1)"
   ]
  },
  {
   "cell_type": "code",
   "execution_count": 11,
   "metadata": {},
   "outputs": [],
   "source": [
    "df = global_df.groupby(['topic_id'], as_index = False).agg({'cleaned_text': ' '.join})"
   ]
  },
  {
   "cell_type": "code",
   "execution_count": 12,
   "metadata": {},
   "outputs": [
    {
     "name": "stdout",
     "output_type": "stream",
     "text": [
      "[['replace', 'this', 'first', 'paragraph', 'with', 'short', 'description', 'of', 'your', 'new', 'category', 'this', 'guidance', 'will', 'appear', 'in', 'the', 'category', 'selection', 'area', 'so', 'try', 'to', 'keep', 'it', 'below', 'characters', 'until', 'you', 'edit', 'this', 'text', 'or', 'create', 'topics', 'this', 'category', 'won', 'appear', 'on', 'the', 'categories', 'page', 'use', 'the', 'following', 'paragraphs', 'for', 'longer', 'description', 'as', 'well', 'as', 'to', 'establish', 'any', 'category', 'guidelines', 'or', 'rules', 'some', 'things', 'to', 'consider', 'in', 'any', 'discussion', 'replies', 'below', 'what', 'is', 'this', 'category', 'for', 'why', 'should', 'people', 'select', 'this', 'category', 'for', 'their', 'topic', 'how', 'is', 'this', 'different', 'than', 'the', 'other', 'categories', 'we', 'already', 'have', 'do', 'we', 'need', 'this', 'category', 'should', 'we', 'merge', 'this', 'with', 'another', 'category', 'or', 'split', 'it', 'into', 'more', 'categories']]\n"
     ]
    }
   ],
   "source": [
    "def sent_to_words(sentences):\n",
    "    for sentence in sentences:\n",
    "        yield(gensim.utils.simple_preprocess(str(sentence), deacc=True))  # deacc=True removes punctuations\n",
    "\n",
    "data_words = list(sent_to_words(df.cleaned_text.values.tolist()))\n",
    "\n",
    "print(data_words[:1])"
   ]
  },
  {
   "cell_type": "code",
   "execution_count": 13,
   "metadata": {},
   "outputs": [
    {
     "name": "stdout",
     "output_type": "stream",
     "text": [
      "['replace', 'this', 'first', 'paragraph', 'with', 'short', 'description', 'of', 'your', 'new', 'category', 'this', 'guidance', 'will', 'appear', 'in', 'the', 'category', 'selection', 'area', 'so', 'try', 'to', 'keep', 'it', 'below', 'characters', 'until', 'you', 'edit', 'this', 'text', 'or', 'create', 'topics', 'this', 'category', 'won', 'appear', 'on', 'the', 'categories', 'page', 'use', 'the', 'following', 'paragraphs', 'for', 'longer', 'description', 'as', 'well', 'as', 'to', 'establish', 'any', 'category', 'guidelines', 'or', 'rules', 'some', 'things', 'to', 'consider', 'in', 'any', 'discussion', 'replies', 'below', 'what', 'is', 'this', 'category', 'for', 'why', 'should', 'people', 'select', 'this', 'category', 'for', 'their', 'topic', 'how', 'is', 'this', 'different', 'than', 'the', 'other', 'categories', 'we', 'already', 'have', 'do', 'we', 'need', 'this', 'category', 'should', 'we', 'merge', 'this', 'with', 'another', 'category', 'or', 'split', 'it', 'into', 'more', 'categories']\n"
     ]
    }
   ],
   "source": [
    "# Build the bigram and trigram models\n",
    "bigram = gensim.models.Phrases(data_words, min_count=5, threshold=100) # higher threshold fewer phrases.\n",
    "trigram = gensim.models.Phrases(bigram[data_words], threshold=100)  \n",
    "\n",
    "# Faster way to get a sentence clubbed as a trigram/bigram\n",
    "bigram_mod = gensim.models.phrases.Phraser(bigram)\n",
    "trigram_mod = gensim.models.phrases.Phraser(trigram)\n",
    "\n",
    "# See trigram example\n",
    "print(trigram_mod[bigram_mod[data_words[0]]])"
   ]
  },
  {
   "cell_type": "code",
   "execution_count": 14,
   "metadata": {},
   "outputs": [],
   "source": [
    "# Define functions for stopwords, bigrams, trigrams and lemmatization\n",
    "def remove_stopwords(texts):\n",
    "    return [[word for word in simple_preprocess(str(doc)) if word not in stop_words] for doc in texts]\n",
    "\n",
    "def make_bigrams(texts):\n",
    "    return [bigram_mod[doc] for doc in texts]\n",
    "\n",
    "def make_trigrams(texts):\n",
    "    return [trigram_mod[bigram_mod[doc]] for doc in texts]\n",
    "\n",
    "def lemmatization(texts, allowed_postags=['NOUN', 'ADJ', 'VERB', 'ADV']):\n",
    "    \"\"\"https://spacy.io/api/annotation\"\"\"\n",
    "    texts_out = []\n",
    "    for sent in texts:\n",
    "        doc = nlp(\" \".join(sent)) \n",
    "        texts_out.append([token.lemma_ for token in doc if token.pos_ in allowed_postags])\n",
    "    return texts_out\n",
    "\n",
    "# NLTK Stop words\n",
    "from nltk.corpus import stopwords\n",
    "stop_words = stopwords.words('english')"
   ]
  },
  {
   "cell_type": "code",
   "execution_count": 15,
   "metadata": {},
   "outputs": [
    {
     "name": "stdout",
     "output_type": "stream",
     "text": [
      "[['replace', 'short', 'description', 'new', 'category', 'guidance', 'appear', 'category', 'selection', 'area', 'try', 'keep', 'character', 'edit', 'text', 'create', 'topic', 'category', 'appear', 'category', 'page', 'use', 'follow', 'paragraph', 'long', 'description', 'well', 'establish', 'category', 'guideline', 'rule', 'thing', 'consider', 'discussion', 'reply', 'category', 'people', 'select', 'category', 'topic', 'different', 'category', 'already', 'need', 'category', 'merge', 'category', 'split', 'category']]\n"
     ]
    }
   ],
   "source": [
    "# Remove Stop Words\n",
    "data_words_nostops = remove_stopwords(data_words)\n",
    "\n",
    "# Form Bigrams\n",
    "data_words_bigrams = make_bigrams(data_words_nostops)\n",
    "\n",
    "# Initialize spacy 'en' model, keeping only tagger component (for efficiency)\n",
    "# python3 -m spacy download en\n",
    "nlp = spacy.load('en', disable=['parser', 'ner'])\n",
    "\n",
    "# Do lemmatization keeping only noun, adj, vb, adv\n",
    "data_lemmatized = lemmatization(data_words_bigrams, allowed_postags=['NOUN', 'ADJ', 'VERB', 'ADV'])\n",
    "\n",
    "print(data_lemmatized[:1])"
   ]
  },
  {
   "cell_type": "code",
   "execution_count": 16,
   "metadata": {},
   "outputs": [
    {
     "name": "stdout",
     "output_type": "stream",
     "text": [
      "[[(0, 1), (1, 2), (2, 1), (3, 11), (4, 1), (5, 1), (6, 1), (7, 2), (8, 1), (9, 1), (10, 1), (11, 1), (12, 1), (13, 1), (14, 1), (15, 1), (16, 1), (17, 1), (18, 1), (19, 1), (20, 1), (21, 1), (22, 1), (23, 1), (24, 1), (25, 1), (26, 1), (27, 1), (28, 1), (29, 1), (30, 1), (31, 1), (32, 2), (33, 1), (34, 1), (35, 1)]]\n"
     ]
    }
   ],
   "source": [
    "# Create Dictionary\n",
    "id2word = corpora.Dictionary(data_lemmatized)\n",
    "\n",
    "# Create Corpus\n",
    "texts = data_lemmatized\n",
    "\n",
    "# Term Document Frequency\n",
    "corpus = [id2word.doc2bow(text) for text in texts]\n",
    "\n",
    "# View\n",
    "print(corpus[:1])"
   ]
  },
  {
   "cell_type": "code",
   "execution_count": 31,
   "metadata": {},
   "outputs": [],
   "source": [
    "def compute_coherence_values(dictionary, corpus, texts, limit, start=2, step=3):\n",
    "    \"\"\"\n",
    "    Compute c_v coherence for various number of topics\n",
    "\n",
    "    Parameters:\n",
    "    ----------\n",
    "    dictionary : Gensim dictionary\n",
    "    corpus : Gensim corpus\n",
    "    texts : List of input texts\n",
    "    limit : Max num of topics\n",
    "\n",
    "    Returns:\n",
    "    -------\n",
    "    model_list : List of LDA topic models\n",
    "    coherence_values : Coherence values corresponding to the LDA model with respective number of topics\n",
    "    \"\"\"\n",
    "    coherence_values = []\n",
    "    model_list = []\n",
    "    for num_topics in range(start, limit, step):\n",
    "        model = gensim.models.ldamodel.LdaModel(corpus=corpus,\n",
    "                                           id2word=id2word,\n",
    "                                           num_topics=num_topics, \n",
    "                                           random_state=100,\n",
    "                                           update_every=1,\n",
    "                                           chunksize=100,\n",
    "                                           passes=10,\n",
    "                                           alpha='auto',\n",
    "                                           per_word_topics=True)\n",
    "        model_list.append(model)\n",
    "        coherencemodel = CoherenceModel(model=model, texts=texts, dictionary=dictionary, coherence='c_v')\n",
    "        coherence_values.append(coherencemodel.get_coherence())\n",
    "\n",
    "    return model_list, coherence_values"
   ]
  },
  {
   "cell_type": "code",
   "execution_count": 32,
   "metadata": {},
   "outputs": [],
   "source": [
    "model_list, coherence_values = compute_coherence_values(dictionary=id2word, corpus=corpus, texts=data_lemmatized, start=2, limit=20, step=3)"
   ]
  },
  {
   "cell_type": "code",
   "execution_count": 33,
   "metadata": {},
   "outputs": [
    {
     "data": {
      "image/png": "[encoded data removed]",
      "text/plain": [
       "<Figure size 432x288 with 1 Axes>"
      ]
     },
     "metadata": {
      "needs_background": "light"
     },
     "output_type": "display_data"
    }
   ],
   "source": [
    "# Show graph\n",
    "limit=20; start=2; step=3;\n",
    "x = range(start, limit, step)\n",
    "plt.plot(x, coherence_values)\n",
    "plt.xlabel(\"Num Topics\")\n",
    "plt.ylabel(\"Coherence score\")\n",
    "plt.legend((\"coherence_values\"), loc='best')\n",
    "plt.show()"
   ]
  },
  {
   "cell_type": "code",
   "execution_count": 28,
   "metadata": {},
   "outputs": [
    {
     "data": {
      "text/plain": [
       "[0.4595551357973616,\n",
       " 0.4595551357973616,\n",
       " 0.4595551357973616,\n",
       " 0.4595551357973616,\n",
       " 0.4595551357973616,\n",
       " 0.4595551357973616]"
      ]
     },
     "execution_count": 28,
     "metadata": {},
     "output_type": "execute_result"
    }
   ],
   "source": [
    "coherence_values"
   ]
  },
  {
   "cell_type": "code",
   "execution_count": 34,
   "metadata": {},
   "outputs": [
    {
     "name": "stdout",
     "output_type": "stream",
     "text": [
      "Num Topics = 2  has Coherence Value of 0.2912\n",
      "Num Topics = 5  has Coherence Value of 0.3969\n",
      "Num Topics = 8  has Coherence Value of 0.4036\n",
      "Num Topics = 11  has Coherence Value of 0.4633\n",
      "Num Topics = 14  has Coherence Value of 0.4469\n",
      "Num Topics = 17  has Coherence Value of 0.426\n"
     ]
    }
   ],
   "source": [
    "for m, cv in zip(x, coherence_values):\n",
    "    print(\"Num Topics =\", m, \" has Coherence Value of\", round(cv, 4))"
   ]
  },
  {
   "cell_type": "code",
   "execution_count": 42,
   "metadata": {},
   "outputs": [
    {
     "name": "stdout",
     "output_type": "stream",
     "text": [
      "[(0,\n",
      "  '0.005*\"psychomotor_vigilance\" + 0.003*\"pvt\" + 0.000*\"router\" + '\n",
      "  '0.000*\"attentional\" + 0.000*\"dial\" + 0.000*\"setback\" + 0.000*\"moodscope\" + '\n",
      "  '0.000*\"digital_stimulation\" + 0.000*\"karaoke\" + 0.000*\"camping\"'),\n",
      " (1,\n",
      "  '0.049*\"management\" + 0.043*\"revenue\" + 0.024*\"remote\" + 0.022*\"ad\" + '\n",
      "  '0.014*\"utility\" + 0.012*\"operation\" + 0.011*\"scratch\" + 0.011*\"biomedical\" '\n",
      "  '+ 0.011*\"generous\" + 0.011*\"budget\"'),\n",
      " (2,\n",
      "  '0.249*\"sleep\" + 0.051*\"night\" + 0.037*\"bed\" + 0.022*\"deep\" + 0.019*\"wake\" + '\n",
      "  '0.018*\"hour\" + 0.015*\"quality\" + 0.011*\"oura\" + 0.010*\"stage\" + '\n",
      "  '0.009*\"light\"'),\n",
      " (3,\n",
      "  '0.019*\"self\" + 0.018*\"health\" + 0.016*\"thank\" + 0.015*\"research\" + '\n",
      "  '0.015*\"people\" + 0.012*\"would\" + 0.012*\"personal\" + 0.011*\"question\" + '\n",
      "  '0.011*\"study\" + 0.011*\"interested\"'),\n",
      " (4,\n",
      "  '0.024*\"wash\" + 0.020*\"inspiration\" + 0.012*\"selection\" + 0.009*\"root\" + '\n",
      "  '0.005*\"blend\" + 0.001*\"proteus\" + 0.000*\"housemate\" + 0.000*\"ventilate\" + '\n",
      "  '0.000*\"regulalrly\" + 0.000*\"splash\"'),\n",
      " (5,\n",
      "  '0.048*\"datum\" + 0.028*\"use\" + 0.023*\"app\" + 0.014*\"time\" + 0.012*\"would\" + '\n",
      "  '0.011*\"track\" + 0.010*\"data\" + 0.010*\"work\" + 0.010*\"export\" + '\n",
      "  '0.010*\"look\"'),\n",
      " (6,\n",
      "  '0.008*\"seal\" + 0.005*\"flex\" + 0.000*\"voc\" + 0.000*\"plywood\" + 0.000*\"coat\" '\n",
      "  '+ 0.000*\"laminate\" + 0.000*\"timber\" + 0.000*\"carpet\" + 0.000*\"vocs\" + '\n",
      "  '0.000*\"respirator\"'),\n",
      " (7,\n",
      "  '0.015*\"time\" + 0.013*\"day\" + 0.012*\"think\" + 0.011*\"see\" + 0.009*\"would\" + '\n",
      "  '0.009*\"work\" + 0.009*\"make\" + 0.008*\"track\" + 0.008*\"go\" + 0.008*\"get\"'),\n",
      " (8,\n",
      "  '0.099*\"food\" + 0.069*\"eat\" + 0.044*\"weight\" + 0.035*\"diet\" + 0.031*\"meal\" + '\n",
      "  '0.027*\"calorie\" + 0.022*\"fat\" + 0.019*\"exercise\" + 0.017*\"muscle\" + '\n",
      "  '0.017*\"scale\"'),\n",
      " (9,\n",
      "  '0.079*\"test\" + 0.033*\"effect\" + 0.026*\"blood\" + 0.021*\"symptom\" + '\n",
      "  '0.019*\"doctor\" + 0.017*\"experiment\" + 0.015*\"supplement\" + 0.014*\"testing\" '\n",
      "  '+ 0.012*\"intervention\" + 0.012*\"sample\"'),\n",
      " (10,\n",
      "  '0.021*\"device\" + 0.018*\"use\" + 0.015*\"measure\" + 0.014*\"also\" + '\n",
      "  '0.014*\"look\" + 0.012*\"sensor\" + 0.011*\"measurement\" + 0.010*\"stress\" + '\n",
      "  '0.009*\"seem\" + 0.009*\"monitor\"')]\n"
     ]
    }
   ],
   "source": [
    "# Select the model and print the topics\n",
    "optimal_model = model_list[3]\n",
    "model_topics = optimal_model.show_topics(formatted=True)\n",
    "pprint(optimal_model.print_topics(num_words=10))"
   ]
  },
  {
   "cell_type": "code",
   "execution_count": 41,
   "metadata": {},
   "outputs": [
    {
     "name": "stderr",
     "output_type": "stream",
     "text": [
      "/Users/bastian/anaconda3/envs/qf-forums/lib/python3.9/site-packages/pyLDAvis/_prepare.py:246: FutureWarning: In a future version of pandas all arguments of DataFrame.drop except for the argument 'labels' will be keyword-only\n",
      "  default_term_info = default_term_info.sort_values(\n"
     ]
    },
    {
     "data": {
      "text/html": [
       "\n",
       "<link rel=\"stylesheet\" type=\"text/css\" href=\"https://cdn.jsdelivr.net/gh/bmabey/pyLDAvis@3.3.1/pyLDAvis/js/ldavis.v1.0.0.css\">\n",
       "\n",
       "\n",
       "<div id=\"ldavis_el892221403431659746721251839371\"></div>\n",
       "<script type=\"text/javascript\">\n",
       "\n",
       "var ldavis_el892221403431659746721251839371_data = {\"mdsDat\": {\"x\": [-0.2455209086028329, -0.23234418302656418, -0.33306875784074474, -0.36499386987329835, 0.15483031411006426, 0.36443636533334356, -0.005532107654494639, 0.2770116767852808, 0.1301216334751911, 0.12866808357216977, 0.1263917537218854], \"y\": [-0.19259076280270185, -0.31739660823724436, -0.07860779928777345, 0.16066569512512854, -0.3440290396164337, -0.14627171861307633, 0.41526337381108397, 0.14208958620925374, 0.1311905449341569, 0.11495205043708547, 0.11473467804052112], \"topics\": [1, 2, 3, 4, 5, 6, 7, 8, 9, 10, 11], \"cluster\": [1, 1, 1, 1, 1, 1, 1, 1, 1, 1, 1], \"Freq\": [40.34874269323625, 27.745788398058885, 12.874621606387313, 12.323236897032027, 2.4204378566957683, 2.173081375116346, 1.6330945417512313, 0.4310900394385919, 0.03136111830891966, 0.01204987131186901, 0.006495602662811377]}, \"tinfo\": {\"Term\": [\"sleep\", \"datum\", \"test\", \"app\", \"food\", \"experiment\", \"effect\", \"eat\", \"self\", \"device\", \"health\", \"hour\", \"night\", \"measure\", \"use\", \"people\", \"exercise\", \"weight\", \"research\", \"thank\", \"result\", \"export\", \"scale\", \"log\", \"body\", \"feel\", \"bed\", \"take\", \"personal\", \"study\", \"video\", \"observation\", \"tremor\", \"book\", \"pain\", \"mood\", \"random\", \"happiness\", \"occur\", \"trigger\", \"game\", \"action\", \"notion\", \"huge\", \"observe\", \"coffee\", \"phenomenon\", \"fun\", \"quickly\", \"intention\", \"emotion\", \"influence\", \"camera\", \"normally\", \"negative\", \"kid\", \"audio\", \"immediately\", \"optimize\", \"rule\", \"amount\", \"today\", \"impressive\", \"attempt\", \"feel\", \"perhaps\", \"flow\", \"factor\", \"obvious\", \"day\", \"enjoy\", \"think\", \"week\", \"job\", \"change\", \"thing\", \"state\", \"mind\", \"fact\", \"go\", \"experiment\", \"begin\", \"much\", \"start\", \"come\", \"lot\", \"really\", \"make\", \"even\", \"idea\", \"see\", \"take\", \"time\", \"first\", \"well\", \"year\", \"way\", \"good\", \"may\", \"month\", \"get\", \"try\", \"could\", \"track\", \"find\", \"work\", \"would\", \"know\", \"also\", \"want\", \"use\", \"app\", \"export\", \"access\", \"api\", \"file\", \"android\", \"store\", \"dashboard\", \"code\", \"csv\", \"download\", \"format\", \"web\", \"aggregate\", \"import\", \"apple\", \"manually\", \"garmin\", \"custom\", \"pull\", \"location\", \"integration\", \"dataset\", \"manager\", \"manual\", \"airtable\", \"beta\", \"cloud\", \"transfer\", \"setup\", \"request\", \"save\", \"data\", \"automatically\", \"datum\", \"version\", \"button\", \"feature\", \"option\", \"developer\", \"phone\", \"log\", \"window\", \"free\", \"use\", \"user\", \"allow\", \"update\", \"add\", \"tracker\", \"track\", \"want\", \"time\", \"look\", \"would\", \"record\", \"thank\", \"work\", \"support\", \"tool\", \"also\", \"need\", \"know\", \"find\", \"get\", \"try\", \"see\", \"could\", \"tracking\", \"make\", \"sensor\", \"stress\", \"temperature\", \"heart_rate\", \"efficiency\", \"detect\", \"breathing\", \"beat\", \"accuracy\", \"signal\", \"variability\", \"peak\", \"artifact\", \"muse\", \"pulse\", \"finger\", \"hrv\", \"air\", \"electrode\", \"wrist\", \"rr\", \"respiratory_rate\", \"breathe\", \"reliable\", \"arrhythmia\", \"azure\", \"band\", \"hr\", \"cardio\", \"polar\", \"measurement\", \"rate\", \"monitor\", \"device\", \"accurate\", \"heart\", \"reading\", \"buy\", \"body\", \"wear\", \"measure\", \"watch\", \"low\", \"high\", \"seem\", \"look\", \"also\", \"use\", \"average\", \"compare\", \"minute\", \"see\", \"good\", \"record\", \"get\", \"may\", \"find\", \"could\", \"survey\", \"participate\", \"participant\", \"rescuetime\", \"interview\", \"employee\", \"workplace\", \"participation\", \"financial\", \"researcher\", \"worker\", \"employer\", \"perspective\", \"student\", \"invite\", \"academic\", \"debate\", \"opportunity\", \"career\", \"sick\", \"personalize\", \"norm\", \"consideration\", \"statement\", \"engage\", \"personalized\", \"conference\", \"culture\", \"society\", \"illustrate\", \"technology\", \"scientist\", \"research\", \"community\", \"individual\", \"health\", \"self\", \"personal\", \"team\", \"human\", \"science\", \"study\", \"world\", \"wearable\", \"professional\", \"company\", \"knowledge\", \"people\", \"interested\", \"design\", \"goal\", \"question\", \"project\", \"thank\", \"tool\", \"share\", \"help\", \"information\", \"system\", \"product\", \"tracking\", \"would\", \"experience\", \"life\", \"work\", \"user\", \"well\", \"datum\", \"use\", \"base\", \"sleep\", \"bed\", \"oura\", \"disturb\", \"rem\", \"awake\", \"emfit\", \"sleeping\", \"alarm\", \"oura_re\", \"asleep\", \"oura_ring\", \"emfit_qs\", \"growth\", \"battle\", \"bedtime\", \"pillow\", \"nap\", \"caffeine\", \"snore\", \"cultural\", \"toss\", \"supply\", \"polysomnography\", \"gap\", \"mattress\", \"bedside\", \"diminish\", \"anecdotally\", \"terribly\", \"wake\", \"night\", \"deep\", \"viewer\", \"tone\", \"quality\", \"stage\", \"light\", \"phase\", \"hour\", \"evening\", \"cycle\", \"correlation\", \"minute\", \"morning\", \"enough\", \"accurate\", \"pattern\", \"get\", \"wear\", \"seem\", \"glucose\", \"headache\", \"potassium\", \"vitamin\", \"cholesterol\", \"hormone\", \"insurance\", \"ketone\", \"bias\", \"sensitivity\", \"precise\", \"inflammation\", \"cgm\", \"infection\", \"chemical\", \"diabetic\", \"seasonal\", \"peanut\", \"failure\", \"gut\", \"substance\", \"rolling\", \"irregular\", \"prescription\", \"genomic\", \"physician\", \"reintroduce\", \"meanwhile\", \"oil\", \"placebo\", \"supplement\", \"microbiome\", \"blood\", \"doctor\", \"test\", \"dose\", \"intervention\", \"testing\", \"symptom\", \"disease\", \"effect\", \"lab\", \"treatment\", \"medication\", \"patient\", \"experiment\", \"sample\", \"result\", \"health\", \"level\", \"take\", \"study\", \"cause\", \"low\", \"order\", \"food\", \"meal\", \"fat\", \"pound\", \"ingredient\", \"meat\", \"vegetable\", \"exclude\", \"fiber\", \"ubiome\", \"cheese\", \"almond\", \"fruit\", \"carb\", \"bmi\", \"settle\", \"substantially\", \"star\", \"bodybuilde\", \"diabete\", \"sodium\", \"stationary\", \"bread\", \"dietary\", \"beef\", \"salmon\", \"approximate\", \"butter\", \"snack\", \"systematic\", \"nutrition\", \"diet\", \"eat\", \"calorie\", \"weight\", \"water\", \"intake\", \"muscle\", \"protein\", \"insulin\", \"consume\", \"lose\", \"exercise\", \"scale\", \"healthy\", \"breakfast\", \"fast\", \"body\", \"gain\", \"estimate\", \"item\", \"log\", \"energy\", \"management\", \"revenue\", \"remote\", \"ad\", \"utility\", \"operation\", \"scratch\", \"biomedical\", \"generous\", \"budget\", \"shirt\", \"credit\", \"dislike\", \"facebook\", \"patent\", \"consent\", \"consult\", \"mouth\", \"scanner\", \"profitable\", \"ride\", \"investment\", \"firm\", \"afford\", \"reddit\", \"award\", \"ball\", \"campaign\", \"peripheral\", \"hike\", \"affordable\", \"money\", \"sell\", \"business\", \"wash\", \"inspiration\", \"selection\", \"root\", \"blend\", \"proteus\", \"apk\", \"eventrend\", \"rude\", \"facet\", \"virtue\", \"housemate\", \"naturopath\", \"regulalrly\", \"splash\", \"ventilate\", \"blonde\", \"clia\", \"fungal\", \"outsource\", \"emission\", \"iexplorer\", \"tmrow\", \"cortemp\", \"visibility\", \"traveling\", \"launching\", \"ph\", \"reteste\", \"retesting\", \"thryveinside\", \"plane\", \"danish\", \"livestreame\", \"swayed\", \"face_touche\", \"dodgy\", \"organism\", \"qualm\", \"face_touching\", \"cement\", \"dandruff\", \"behaviorism\", \"carnivore\", \"newsletter\", \"brainstorm\", \"shampoo\", \"seal\", \"flex\", \"plywood\", \"laminate\", \"timber\", \"carpet\", \"vocs\", \"coat\", \"formaldehyde\", \"sprayer\", \"underlay\", \"respirator\", \"encapsulate\", \"wood\", \"spray\", \"thick\", \"famously\", \"mock\", \"smog\", \"finished\", \"getelementbyid\", \"altimeter\", \"lpcurruser\", \"victor\", \"reassemble\", \"channelling\", \"extremitie\", \"legging\", \"lilypad\", \"thermistor\", \"bored\", \"tean\", \"san\", \"bb\", \"teae\", \"voc\", \"strenght\", \"comfort\", \"bicep\", \"calf\", \"hotel\", \"reserve\", \"forearm\", \"psychomotor_vigilance\", \"pvt\", \"attentional\", \"basner\", \"corte\", \"dawson\", \"dilate\", \"dinge\", \"distractibility\", \"fassbender\", \"tentatively\", \"vyvanse\", \"elapse\", \"frap\", \"autoscroll\", \"downthemall\", \"httrack\", \"nuke\", \"navigable\", \"doh\", \"fingering\", \"pluck\", \"changedfor\", \"mindtrip\", \"optimismonline\", \"paradox\", \"calculus\", \"carddeck\", \"cloze\", \"cmu\", \"dial\", \"actiwatch\", \"pupil\", \"atrocious\", \"besides\", \"cached\", \"clan\", \"clash\", \"claws\", \"compulsion\", \"confining\", \"considerate\", \"coworke\", \"crossroad\", \"deterrent\", \"disabuse\", \"digital_stimulation\", \"assuage\", \"ethernet\", \"karaoke\", \"blacklist\", \"civilization\", \"gameplay\", \"refreshing\", \"skirmish\", \"slowness\", \"ip\", \"haircut\", \"embarrassing\", \"router\", \"printer\", \"moodscope\", \"setback\", \"ink\", \"addictive\", \"backpack\", \"political\", \"refill\", \"camping\", \"debt\", \"usb_cable\", \"reinforce\", \"cheat\", \"hotspot\", \"guitar\"], \"Freq\": [2851.0, 6982.0, 1231.0, 3052.0, 766.0, 1087.0, 843.0, 624.0, 1516.0, 1672.0, 1367.0, 911.0, 642.0, 1763.0, 6485.0, 1781.0, 610.0, 455.0, 998.0, 2471.0, 874.0, 1300.0, 496.0, 846.0, 697.0, 998.0, 418.0, 1862.0, 926.0, 978.0, 398.8074494279268, 325.59970730116635, 247.03678518343136, 237.84646182383034, 224.2028711398053, 856.8857161290107, 183.6831864813533, 180.57405295199268, 147.95340196211046, 146.98364994167537, 138.30748273227024, 136.600421713169, 133.86752355334812, 127.71680726487257, 123.90953441614207, 122.9663653885986, 116.78110785842003, 116.08161441582142, 115.67914013388257, 111.03366500657569, 109.58157873181958, 152.8324744457419, 105.50148335061459, 103.09745954544053, 102.55204756727686, 99.8046314305448, 98.49301879171209, 98.21555672227365, 95.32408185287332, 94.58956989563042, 274.0302550032984, 391.1810718012706, 112.07335416196284, 147.45071146187576, 946.1413502292385, 307.50684506617904, 214.61232667052306, 289.9087927782101, 185.16904814123228, 2517.752131008302, 122.42173036638583, 2366.642811669216, 980.8758097778907, 214.93187755375902, 908.7422425513669, 1229.8952533555796, 267.78177545745774, 380.62312837814744, 282.7198857493956, 1562.7100622004766, 893.9655171098024, 224.2466248592119, 1484.210961464423, 1203.1027931395822, 697.1228833961736, 882.2880911551342, 1032.1999215852047, 1652.5338064920052, 935.0210238901097, 819.4157500684166, 2025.342489505895, 1276.0667708864319, 2842.5651815085494, 693.5133236382067, 1434.246300583776, 843.2889869881959, 1140.4017375419267, 1278.9011061953286, 1247.328102609645, 584.7299894503454, 1497.7485531580035, 1272.4621392490678, 1319.6800166571143, 1578.8567163746745, 1290.0615678590068, 1694.8529544308624, 1738.2355108803508, 1176.995030905004, 1310.537065411777, 1105.618795941938, 1431.2176818896705, 3051.9734468749407, 1300.0325973722915, 652.231487326154, 524.0450987015969, 492.48673574059814, 483.297937381992, 426.2137674748023, 395.34895230088523, 390.94941022203767, 352.16581008894246, 323.1215845697789, 292.27951417296157, 277.5638570987166, 266.9121268890132, 235.50336044853663, 234.3793563061283, 226.05756137365398, 225.859910787152, 191.5389122457897, 184.35963784137604, 174.2443180124018, 171.91975599795072, 170.33378864119962, 170.06842273173476, 164.98284322173387, 147.51821269833627, 147.07878055177824, 143.71481275376917, 128.19005221281483, 127.76730465778034, 145.8226735227783, 149.0497605045097, 1354.2672588625574, 268.4545586053022, 6316.325593526215, 399.6259168226111, 465.51741396107565, 575.0808981046665, 368.0766517724523, 316.182382050901, 654.5057207969152, 712.6176188000915, 454.114190210015, 482.17623824719584, 3637.61976715594, 883.6524197894477, 450.35843217774885, 479.5998503348822, 554.444393927571, 494.7182884081573, 1472.813525585064, 1144.9841690443577, 1886.5524392135312, 1291.4268285549936, 1547.1643396002257, 681.9097273232118, 1059.5982608382283, 1330.669964775211, 497.6028146228442, 650.2039354647435, 1005.2381825099412, 685.2501870965674, 784.1336092812621, 793.2964266931408, 792.8751751033116, 726.6890949390271, 815.8469114956587, 736.7522391652316, 660.8030626530469, 637.9638870958237, 727.8085501555915, 631.7250018651546, 419.74995357471295, 292.01125779521885, 265.128551909097, 236.54685669899803, 233.0407450942365, 204.87302358567396, 203.87871887724424, 190.2101493097585, 187.13134209071464, 183.62154719383076, 183.21760338007374, 153.49131097644485, 139.37489558640522, 136.78688704266517, 126.50152045511958, 124.50887358343371, 122.97601490068305, 117.89427592502706, 113.59588110149292, 104.1850413958597, 102.22319251291998, 102.18552376771483, 100.31497094663094, 99.61792916223752, 97.18286224062416, 95.63189876044132, 94.33996988201714, 88.91725722138824, 682.6519553958464, 367.1702218696716, 557.5611216570805, 1299.7091247072285, 499.44262525653977, 209.00860981414596, 406.1308676202402, 306.4851225192249, 478.22215935106516, 237.97265907956165, 935.378494399762, 304.11220406892215, 361.913115689467, 394.7926178130113, 573.6705947475427, 824.1199525633206, 831.3355218310139, 1096.91080040852, 281.85024481632723, 260.8527880823531, 292.0385141569243, 408.275081962761, 357.094179606741, 295.6482254358811, 348.7148883594978, 309.79014054061395, 284.20497347014873, 276.8531223939283, 409.90445490402374, 280.7346565789484, 189.17855126278397, 183.1856504847454, 151.7544784341154, 128.6002597945734, 122.10814158548487, 118.23839290711788, 110.8810173674119, 108.462573601183, 107.10378039382918, 105.85495712796317, 102.6506757533479, 102.36643532012134, 101.50239837109866, 95.26283135315818, 89.72470577642527, 87.40497054152318, 84.29229914529158, 83.41833642596447, 81.51258174761267, 80.17592490640914, 78.35430197922393, 76.06868318979453, 75.58537139886359, 74.80167623816587, 143.67510480322704, 71.80916496973872, 70.41372641505188, 67.36908451283314, 253.59814295840698, 102.64165170944406, 893.3345143712944, 466.0093291580972, 286.8953327066822, 1064.462821818916, 1125.3238485830527, 720.6663565469336, 178.5938426961163, 217.87517359453847, 203.42801151948166, 642.1152748154444, 134.54410123250062, 277.84696252971986, 141.52003294495347, 300.4767153989949, 303.44373425188604, 888.4862366106183, 634.1306705952908, 333.73864967897566, 327.4155543207682, 648.8262888032552, 582.1891688312954, 920.6049987713549, 517.4402775020064, 469.6923865720494, 600.6075475344298, 382.4474148375034, 320.5679931922938, 304.4134765867124, 516.2375236413444, 721.840851793778, 358.0964900060915, 337.2232188064299, 543.4603860396163, 338.26249577256937, 340.51602530595306, 367.6269922717765, 319.7290215252489, 304.9939443123857, 2850.2390012778014, 417.77991576431265, 121.49935735657843, 95.10012587660613, 93.36177054636342, 91.6671468226722, 83.86717534749728, 81.42030939822489, 72.33214115569072, 63.775564947533205, 57.49031037372591, 57.36707886123276, 48.850633459866835, 46.55149085340718, 46.06891976605773, 44.18228978712189, 40.44425481270027, 39.83366890193401, 39.64761515220964, 38.09901025073475, 36.7256460464508, 33.98966677089396, 33.50701578414155, 33.22470988698899, 30.936169931301656, 30.032196076192772, 29.61474566556625, 29.350558289690778, 28.48742101943293, 28.355352632972796, 214.16172048922235, 581.538067344553, 254.39797318620612, 32.222792680422664, 48.08932531536354, 171.70350800903483, 112.18573963203549, 107.60405218842368, 88.46229654405951, 204.5684228945707, 62.33192655503563, 65.35914448099555, 74.5620589194289, 88.3389105593873, 71.23688013996382, 73.35753280684564, 70.40988935960347, 57.56698716742978, 70.31888926626294, 55.68084457485197, 56.165264001723145, 112.16536304445239, 98.80739489317183, 90.72987823759401, 74.70979587679504, 68.0204725278045, 59.571521542050085, 57.48284963939121, 52.64933021132142, 52.46343849328341, 49.68729577601119, 48.20774193377013, 46.9430842928554, 44.364860709197465, 39.791602120289625, 39.26546366280295, 38.982415294726096, 36.28930000311097, 36.149803502652794, 36.15123818443128, 36.014732995481246, 35.771422921532064, 33.22173037617555, 29.81132201804501, 29.67414252865909, 29.119707364228145, 28.98971563055242, 28.28607117002298, 26.67015560700973, 25.974676876936147, 25.20419537461979, 158.27438073856908, 106.4454685200004, 270.81156547727824, 196.6393400806081, 810.3608352274024, 112.36670628524466, 122.00441068128687, 146.82266470181332, 217.2370281161037, 67.54397645098963, 334.6700166011592, 87.06709739894687, 64.3247466132508, 65.17074976438649, 84.21234846703159, 177.08789851434358, 120.15542149881391, 115.92355022136863, 105.78809732909963, 78.99918354673969, 79.15428221153887, 70.89694732411861, 61.506328606239286, 61.07606754087232, 60.27471646895561, 765.7894623860784, 240.78190983591884, 169.39101205262102, 105.98387976536137, 102.42629116393734, 71.27385784504827, 53.75823054022824, 52.07804290861138, 49.525184278840605, 42.33535035925551, 40.019155641960054, 38.60992161301195, 36.1233350602946, 35.23909520009974, 31.062071126190897, 30.512383061481348, 27.58143037215039, 26.784082764827506, 25.914441450022615, 24.092809295599192, 23.39199465951573, 22.948476690482632, 22.878749049324714, 22.401985426886913, 21.92296301917644, 19.94046114799451, 19.331245016675727, 19.005715783524614, 18.89382415061015, 18.521672655009173, 88.51840575963465, 266.82969688653327, 533.6225344226186, 206.89245411044507, 342.75610611586166, 110.48835402823397, 80.13780565383047, 130.07581393890186, 63.62373847402807, 38.38923990914056, 81.63183128331661, 92.28935882258295, 143.52267713603214, 127.88337262189152, 57.73335119674097, 37.65496398382684, 68.12203836442899, 87.6312943490295, 59.25068705896945, 49.68924720278252, 47.07216503630108, 48.32237483176438, 43.38003764938382, 98.97418782469377, 87.29909944676506, 48.5872459113323, 44.99498429421229, 27.94943191694203, 24.98524772001669, 22.78654034992184, 22.653119767503604, 22.558813854253316, 22.502766887842835, 21.73904704299874, 21.08526759473959, 18.648623880089836, 18.529039056467266, 18.43522456690432, 17.75993631972749, 17.408894734145633, 17.126980713045747, 16.787112849837406, 15.323340039796593, 15.135771777110833, 12.996851126661003, 12.53078793741044, 12.384749719776734, 12.29872780582731, 10.504499129493391, 10.465912883093488, 10.247172420564883, 9.741968947398187, 9.586244560174261, 11.975643294844295, 15.68353842350625, 16.053060575554074, 13.911300482833575, 3.5525002616749095, 2.975275434605354, 1.7546158186684604, 1.4061569959767752, 0.7236043439415443, 0.07427921936672001, 0.008356157682200936, 0.008356145280885753, 0.008356155525450468, 0.008356124252568702, 0.008356136114696268, 0.008875519370199701, 0.008872716672968285, 0.008872716672968285, 0.008872716672968285, 0.008872716672968285, 0.008336159213498886, 0.008333048640138355, 0.008333048640138355, 0.008333044326637421, 0.008350761492533366, 0.008242732018409138, 0.008260822302135816, 0.008227593786883694, 0.008257476642974418, 0.008250977814630774, 0.008255707568404146, 0.008255707568404146, 0.008255707568404146, 0.008255707568404146, 0.008255707568404146, 0.008261032046118697, 0.008260814214321566, 0.008268269022309553, 0.008268269022309553, 0.008304435570884875, 0.008268268483121937, 0.008345701755938597, 0.00827008284945201, 0.00828343583077868, 0.008354315278114796, 0.008831926590580075, 0.008297737782310681, 0.008417819717230188, 0.00833298663356244, 0.008375870381466153, 0.008291114401627586, 0.43224300956078027, 0.2899875496094845, 0.0036832704825000276, 0.003505904433029537, 0.003505904433029537, 0.0035059007039359527, 0.0035058584408753286, 0.003506025835742898, 0.003421111681590353, 0.003421111681590353, 0.003421111681590353, 0.003430585029497957, 0.0034211065022937076, 0.0034211114744184873, 0.0034211091955279635, 0.0034213103594096586, 0.003384403520204199, 0.003384403520204199, 0.003384402691516736, 0.003421091378747504, 0.003360800222361322, 0.0033532807123201123, 0.0033532807123201123, 0.0033532807123201123, 0.0033533735253159923, 0.003350987941281263, 0.003350987941281263, 0.003350987941281263, 0.003350987941281263, 0.003350987941281263, 0.00338439212575158, 0.003385074964221269, 0.0033532805051482463, 0.003361859492111176, 0.003361859492111176, 0.003775816226673182, 0.00338507144229955, 0.0033954138761842006, 0.0033786586443654634, 0.003361856591705055, 0.0033843359821759474, 0.0033620103132294813, 0.0033629796703895766, 0.14088636570293897, 0.10440929143312426, 0.0018322831056497566, 0.0018110502048367377, 0.0018110502048367377, 0.0018110502048367377, 0.0018110502048367377, 0.0018110502048367377, 0.0018110502048367377, 0.0018110502048367377, 0.0018110502048367377, 0.0018110502048367377, 0.0018097526175811995, 0.0018084020949302635, 0.0018084020949302635, 0.0018084020949302635, 0.0018084020949302635, 0.0018084020949302635, 0.0018084020949302635, 0.0018084020949302635, 0.0018084020949302635, 0.0018084020949302635, 0.0018084020949302635, 0.0018084020949302635, 0.0018084020949302635, 0.0018084020949302635, 0.0018084020949302635, 0.0018084020949302635, 0.0018084020949302635, 0.0018084020949302635, 0.0018322741714058076, 0.0018092210300662357, 0.0018110502048367377, 0.0018111780762032573, 0.0018111780762032573, 0.0018111780762032573, 0.0018111780762032573, 0.0018111780762032573, 0.0018111780762032573, 0.0018111780762032573, 0.0018111780762032573, 0.0018111780762032573, 0.0018111780762032573, 0.0018111780762032573, 0.0018111780762032573, 0.0018111780762032573, 0.0018250988567342925, 0.0018167384146029468, 0.0018167384146029468, 0.0018167384146029468, 0.0018139569611055344, 0.0018139569611055344, 0.0018139569611055344, 0.0018139569611055344, 0.0018139569611055344, 0.0018139569611055344, 0.0018139569611055344, 0.0018139569611055344, 0.0018139569611055344, 0.0018503220142510194, 0.0018139569611055344, 0.0018278881276951604, 0.0018278902495780984, 0.0018167384146029468, 0.0018167376328566015, 0.0018167381912468483, 0.0018139566260713864, 0.001813956514393337, 0.0018167384146029468, 0.0018167379678907494, 0.0018167381912468483, 0.0018139560676811396, 0.0018167366277541573, 0.0018139569611055344, 0.0018139566260713864], \"Total\": [2851.0, 6982.0, 1231.0, 3052.0, 766.0, 1087.0, 843.0, 624.0, 1516.0, 1672.0, 1367.0, 911.0, 642.0, 1763.0, 6485.0, 1781.0, 610.0, 455.0, 998.0, 2471.0, 874.0, 1300.0, 496.0, 846.0, 697.0, 998.0, 418.0, 1862.0, 926.0, 978.0, 399.4200160122847, 326.21227657151485, 247.64993969983172, 238.45899077503552, 224.81542335083344, 859.7251900926433, 184.2957498697529, 181.18660258718722, 148.56598012734693, 147.5962074819371, 138.92000510302944, 137.21297059049363, 134.48011184720443, 128.32936269305753, 124.52208858807647, 123.57891386926825, 117.39375973516128, 116.69420743180069, 116.29168298332942, 111.6462526557708, 110.19409827819808, 153.71094691743133, 106.11406253600276, 103.71001438354497, 103.16460683087105, 100.41720116718695, 99.10569363812412, 98.82810847932036, 95.93668624401039, 95.20212535797755, 278.0014632438392, 398.42040498280943, 112.88291945365174, 149.40103742638914, 998.6272672037225, 317.10545680016304, 219.56410760863432, 300.4930630666352, 189.57086465125377, 2937.837709170376, 123.70208163488478, 2834.703930777788, 1111.1616611802508, 224.0701403031586, 1046.207007600133, 1490.4700068478282, 286.0850103313725, 420.75236384106597, 304.92981647816276, 2006.3763620351642, 1087.4572874752757, 237.63878695299843, 1991.8713302396845, 1572.578062590946, 864.5765310526303, 1147.8806242653848, 1387.4451577938146, 2398.3771403739356, 1237.0555880962893, 1092.7519208919903, 3249.8795726335843, 1862.7544890450636, 4979.72846758298, 914.3055949416974, 2321.554875464998, 1186.7346463627277, 1773.8901934600428, 2064.4786280627072, 2042.8971303474036, 750.764779932187, 2713.3635182854828, 2198.6185099145764, 2407.0166224117465, 3187.374049951519, 2399.783510615182, 3715.3145080726254, 4248.254586771388, 2313.562199083577, 3304.649364652393, 2318.4512900716695, 6485.794137034564, 3052.5776208388284, 1300.6354492125047, 652.8343416812696, 524.6479444991655, 493.0895750392826, 483.90077578775737, 426.81662050197633, 395.95182287396386, 391.55227370967526, 352.7686672572068, 323.72443193002135, 292.8823506575536, 278.16803133796503, 267.51500247921285, 236.10619552692532, 234.98223348209788, 226.660425617357, 226.46295616922723, 192.1417698325673, 184.9624994828205, 174.84718333898215, 172.522636368065, 170.936667213669, 170.67171068865983, 165.58571664412545, 148.1210589646027, 147.68169921612807, 144.3176802187442, 128.79294321332165, 128.3701892412754, 146.5291427744213, 149.97096880691402, 1410.8699021464065, 272.65943259746774, 6982.450061620634, 414.3216976967905, 492.64226105158355, 619.8166172517008, 392.6425790662403, 334.3975479601698, 761.7425747079687, 846.9116081302852, 512.5290191920482, 569.2956726058833, 6485.794137034564, 1222.4202304165597, 536.1969336993906, 582.1202323942555, 760.7531739751465, 652.2415318111498, 3187.374049951519, 2318.4512900716695, 4979.72846758298, 2860.613219538412, 4248.254586771388, 1115.8507454331216, 2471.032653252973, 3715.3145080726254, 661.3911282098305, 1188.7061253793154, 3304.649364652393, 1520.8896809302273, 2313.562199083577, 2399.783510615182, 2713.3635182854828, 2198.6185099145764, 3249.8795726335843, 2407.0166224117465, 1765.5342066784833, 2398.3771403739356, 728.4135247888996, 632.3300312012819, 420.3549372733819, 292.6162457622014, 265.73410612408014, 237.15530585114186, 233.64572171550265, 205.47801377129332, 204.48371122200592, 190.81514684472324, 187.7363430303536, 184.22656899730393, 183.8226100916556, 154.0963538156599, 139.97987706504856, 137.3919274972205, 127.10649078282337, 125.11391181568084, 123.58097238557954, 118.49924002720861, 114.20086423622467, 104.79007314192964, 102.82815821517117, 102.79054096896564, 100.92019605350754, 100.2231066861983, 97.78785592460362, 96.2368654262661, 94.94503428268075, 89.52222263803523, 715.7473205630573, 395.12430028401303, 622.9891254611706, 1672.4097300289304, 586.1111146312176, 232.18085460165136, 505.65572292637444, 374.40009238296426, 697.5089740920198, 294.1711170559359, 1763.1650966255902, 409.7459634832478, 563.5203087437715, 754.2711746503487, 1493.4562064630534, 2860.613219538412, 3304.649364652393, 6485.794137034564, 464.0492592985829, 516.3611897642024, 922.2889632399197, 3249.8795726335843, 2064.4786280627072, 1115.8507454331216, 2713.3635182854828, 2042.8971303474036, 2399.783510615182, 2407.0166224117465, 410.50917472189093, 281.33941452632723, 189.78330855164683, 183.79047416529815, 152.35919876482055, 129.2050591418527, 122.71290616403893, 118.84314359347552, 111.48795901181109, 109.06733297030277, 107.70863107855706, 106.4597954899122, 103.25543665724713, 102.97119195656062, 102.10712494215217, 95.8675937012756, 90.3295410238387, 88.01065113053633, 84.89720841407863, 84.02329134120387, 82.11739559398012, 80.78097133774843, 78.95911489682899, 76.67348154788395, 76.19012859017799, 75.40644771406929, 144.8458408440714, 72.41396694051397, 71.01849856776818, 67.97439524476606, 262.4615494630569, 104.49975285124528, 998.8453852941213, 539.2959010148945, 324.1862502456145, 1367.7658771689846, 1516.9301773893135, 926.2702292346078, 201.4184053676315, 254.0560574731462, 236.13345737643346, 978.586982216177, 148.0416393701246, 361.3468932617235, 157.7725150859013, 419.7171914646038, 429.12098685439344, 1781.572334559215, 1154.8716758818173, 492.8109196186799, 536.3675688407806, 1445.6650562114964, 1241.7974130939397, 2471.032653252973, 1188.7061253793154, 1030.132269155916, 1736.2951721313532, 832.1666925117112, 627.0901785457353, 573.3063466913287, 1765.5342066784833, 4248.254586771388, 886.2985144207515, 842.3942072121723, 3715.3145080726254, 1222.4202304165597, 2321.554875464998, 6982.450061620634, 6485.794137034564, 998.6238626962457, 2851.1664356770157, 418.39527702640373, 122.1147746309041, 95.71678011163117, 93.9770997300532, 92.28248957994255, 84.4825630335716, 82.03571550766173, 73.01867456836068, 64.39097812103498, 58.105664287919424, 57.98248907286168, 49.46601321188749, 47.167118572506354, 46.684334751433404, 44.79764352089557, 41.059693042296956, 40.449056141604615, 40.2630438823558, 38.7143824133971, 37.34140111721319, 34.605067914025966, 34.12247110756775, 33.84006621778577, 31.551744378553195, 30.647560461550714, 30.230080694625855, 29.966403683305526, 29.10377125748521, 28.97076425928759, 219.68052509404745, 642.0581985813548, 294.84448821758247, 33.0683179282607, 56.11087290364222, 294.5375372582948, 195.5007587999628, 271.7150588770967, 197.36550797709526, 911.1732405323545, 115.53945998820039, 152.2835167956701, 427.7243750151594, 922.2889632399197, 400.5936234341509, 735.2359830702179, 586.1111146312176, 296.3691538873957, 2713.3635182854828, 294.1711170559359, 1493.4562064630534, 112.78504421900354, 99.42707898356609, 91.34950643600338, 75.3294232277145, 68.64011068005144, 60.19116297090141, 58.10247669049895, 53.268998112087495, 53.08327013298163, 50.30705077540493, 48.82757255963245, 47.56278042800383, 44.984567986041746, 40.4114464012065, 39.8851446225405, 39.60207284194539, 36.90907641963891, 36.76965711163382, 36.77114701908993, 36.634393522570996, 36.39111813845162, 33.84215293985567, 30.43119570562397, 30.293827344353307, 29.73939930500134, 29.609358435694137, 28.90594636253505, 27.290056713929047, 26.594349158375103, 25.823817384591084, 166.38027629727685, 111.12037135759843, 295.3537501440034, 244.61060761267947, 1231.4383830809738, 134.82730421086978, 159.27023644974767, 224.00379113281213, 392.72596958832577, 85.26574831524653, 843.1242806654024, 141.187513523613, 91.72282471447586, 115.12884947267659, 211.09688961394687, 1087.4572874752757, 512.3630498444037, 874.2503900244042, 1367.7658771689846, 827.0583644921028, 1862.7544890450636, 978.586982216177, 304.93980036040375, 563.5203087437715, 297.9382915787428, 766.4164966452871, 241.40899594481587, 170.01801951300968, 106.61088553973863, 103.05333300315219, 71.90092474450711, 54.38525593541188, 52.70529379122441, 50.15221262710583, 42.96251007585128, 40.64620399221258, 39.2382924492129, 36.75150912148953, 35.86621539619909, 31.689083051753535, 31.139783594737075, 28.209559555453318, 27.411531073284834, 26.54153103089562, 24.719885582653625, 24.019155937819054, 23.57595063568803, 23.505873670295994, 23.029070305971512, 22.550132508328726, 20.567627202260002, 19.95949570302817, 19.632843240829228, 19.520887821210994, 19.148797743407872, 92.23414409280544, 296.9830027435656, 624.985159752129, 237.85158063591157, 455.0623646901784, 137.35977309564964, 99.63299743784913, 182.65012630124835, 78.40638403114477, 45.239508736295484, 141.10586870705885, 212.4837758219879, 610.6150776506647, 496.1625548169727, 137.3118298313299, 52.29548098425815, 255.74561122155063, 697.5089740920198, 193.71235341451373, 178.38117975330636, 143.11489717804895, 846.9116081302852, 173.82211221487086, 99.61971066773935, 87.94454723631176, 49.23286092858101, 45.64055942614808, 28.594979676520666, 25.630891008490238, 23.432093241502233, 23.298823754595478, 23.204561503480907, 23.148287534671805, 22.38451652504447, 21.730869973670526, 19.294402801714302, 19.174481995702248, 19.080663949720137, 18.40538615408735, 18.054418773978114, 17.772449921804867, 17.432621929603854, 15.969174625589794, 15.781515443320421, 13.642356202168298, 13.17624739824434, 13.030359923815192, 12.944469596291835, 11.149995811819583, 11.111438992680092, 10.89264188060585, 10.387614067494306, 10.231731017460401, 17.056794815071186, 123.35624599168787, 140.8948966960986, 136.88326893706838, 4.247466442219287, 3.669973118326333, 2.449313502306433, 2.10085839939461, 1.4184235327917738, 0.7688893254965591, 0.7045811230882684, 0.7055479166801542, 0.7068740380962039, 0.707547303336894, 0.7081149331708837, 0.7530892217971257, 0.752895311384354, 0.752895311384354, 0.752895311384354, 0.752895311384354, 0.7076887446575844, 0.7084781239081599, 0.7084781239081599, 0.7087098544461282, 0.7115488079565107, 0.7040271508958877, 0.705637778068784, 0.7028918021289311, 0.7055912647612574, 0.7050876420304489, 0.7055733903790399, 0.7055733903790399, 0.7055733903790399, 0.7055733903790399, 0.7055733903790399, 0.7064348272710014, 0.7066104904526685, 0.7078288052706484, 0.7078288052706484, 0.7150108138015864, 0.7081494036865863, 0.7262632277339593, 0.7090505231219926, 0.7129388924697287, 0.7347424032131302, 0.9072701932884136, 0.7183427426994172, 0.7724601498776442, 0.735907385762853, 0.7591838437095682, 0.7348221931428222, 1.1318248054712152, 0.9894050912063518, 0.7084509064173184, 0.7055589956576079, 0.7055589956576079, 0.7057477209458142, 0.7077976447348348, 0.7100472800113489, 0.7041263950444299, 0.7041263950444299, 0.7041263950444299, 0.7063220116171365, 0.7049728597548378, 0.7065627271390087, 0.7086926529480231, 0.7096673651524554, 0.7045077666741855, 0.7045077666741855, 0.7049183809454761, 0.713278089712063, 0.7031654550159584, 0.7030103389935285, 0.7030103389935285, 0.7033168123616272, 0.7034074400548556, 0.7036148576946566, 0.7036148576946566, 0.7036148576946566, 0.7036148576946566, 0.7036148576946566, 0.7115569319547903, 0.711885861919796, 0.7043272052383796, 0.7072791550797711, 0.7072791550797711, 0.872504704614412, 0.7206018575207297, 0.7268242554647176, 0.723921267262059, 0.7105719304500331, 0.7360662660612001, 0.7107708030551407, 0.7265328374183893, 0.8426704320941558, 0.8056637989329293, 0.7083295665933401, 0.7028681005577332, 0.7028681005577332, 0.7028681005577332, 0.7028681005577332, 0.7028681005577332, 0.7028681005577332, 0.7028681005577332, 0.7028681005577332, 0.7028681005577332, 0.702784286147415, 0.7027362077675833, 0.7027395007978683, 0.7027395007978683, 0.7027395007978683, 0.7027396056731974, 0.7027409184581019, 0.7027423942615345, 0.7027423942615345, 0.7027423942615345, 0.7027424095389869, 0.7027424095389869, 0.7027424095389869, 0.7027424095389869, 0.7027431768572813, 0.7027431768572813, 0.7027431768572813, 0.7027431768572813, 0.7162774864626117, 0.7032569662699376, 0.7045426790884645, 0.7049883110820031, 0.7049883110820031, 0.7049883110820031, 0.7049883110820031, 0.7049883110820031, 0.7049883110820031, 0.7049883110820031, 0.7049883110820031, 0.7049883110820031, 0.7049883110820031, 0.7049883110820031, 0.7049883110820031, 0.7049883110820031, 0.7165377309002435, 0.7095839288269002, 0.7095839288269002, 0.7095839288269002, 0.7072821710050977, 0.7072821710050977, 0.7072821710050977, 0.7072821710050977, 0.7072821710050977, 0.7072821710050977, 0.7074840054288809, 0.7075644240161669, 0.7076413721479922, 0.7461574630152612, 0.7081299222470369, 0.7242972725376584, 0.7258120970741626, 0.7120169863832874, 0.712155494373433, 0.7139400398987085, 0.709059814970319, 0.7098235468097699, 0.718267092926498, 0.7183894058917554, 0.7191394427533893, 0.7126313622435886, 0.7360484959208118, 0.7169761416956575, 0.7142367439136631], \"Category\": [\"Default\", \"Default\", \"Default\", \"Default\", \"Default\", \"Default\", \"Default\", \"Default\", \"Default\", \"Default\", \"Default\", \"Default\", \"Default\", \"Default\", \"Default\", \"Default\", \"Default\", \"Default\", \"Default\", \"Default\", \"Default\", \"Default\", \"Default\", \"Default\", \"Default\", \"Default\", \"Default\", \"Default\", \"Default\", \"Default\", \"Topic1\", \"Topic1\", \"Topic1\", \"Topic1\", \"Topic1\", \"Topic1\", \"Topic1\", \"Topic1\", \"Topic1\", \"Topic1\", \"Topic1\", \"Topic1\", \"Topic1\", \"Topic1\", \"Topic1\", \"Topic1\", \"Topic1\", \"Topic1\", \"Topic1\", \"Topic1\", \"Topic1\", \"Topic1\", \"Topic1\", \"Topic1\", \"Topic1\", \"Topic1\", \"Topic1\", \"Topic1\", \"Topic1\", \"Topic1\", \"Topic1\", \"Topic1\", \"Topic1\", \"Topic1\", \"Topic1\", \"Topic1\", \"Topic1\", \"Topic1\", \"Topic1\", \"Topic1\", \"Topic1\", \"Topic1\", \"Topic1\", \"Topic1\", \"Topic1\", \"Topic1\", \"Topic1\", \"Topic1\", \"Topic1\", \"Topic1\", \"Topic1\", \"Topic1\", \"Topic1\", \"Topic1\", \"Topic1\", \"Topic1\", \"Topic1\", \"Topic1\", \"Topic1\", \"Topic1\", \"Topic1\", \"Topic1\", \"Topic1\", \"Topic1\", \"Topic1\", \"Topic1\", \"Topic1\", \"Topic1\", \"Topic1\", \"Topic1\", \"Topic1\", \"Topic1\", \"Topic1\", \"Topic1\", \"Topic1\", \"Topic1\", \"Topic1\", \"Topic1\", \"Topic1\", \"Topic1\", \"Topic1\", \"Topic2\", \"Topic2\", \"Topic2\", \"Topic2\", \"Topic2\", \"Topic2\", \"Topic2\", \"Topic2\", \"Topic2\", \"Topic2\", \"Topic2\", \"Topic2\", \"Topic2\", \"Topic2\", \"Topic2\", \"Topic2\", \"Topic2\", \"Topic2\", \"Topic2\", \"Topic2\", \"Topic2\", \"Topic2\", \"Topic2\", \"Topic2\", \"Topic2\", \"Topic2\", \"Topic2\", \"Topic2\", \"Topic2\", \"Topic2\", \"Topic2\", \"Topic2\", \"Topic2\", \"Topic2\", \"Topic2\", \"Topic2\", \"Topic2\", \"Topic2\", \"Topic2\", \"Topic2\", \"Topic2\", \"Topic2\", \"Topic2\", \"Topic2\", \"Topic2\", \"Topic2\", \"Topic2\", \"Topic2\", \"Topic2\", \"Topic2\", \"Topic2\", \"Topic2\", \"Topic2\", \"Topic2\", \"Topic2\", \"Topic2\", \"Topic2\", \"Topic2\", \"Topic2\", \"Topic2\", \"Topic2\", \"Topic2\", \"Topic2\", \"Topic2\", \"Topic2\", \"Topic2\", \"Topic2\", \"Topic2\", \"Topic2\", \"Topic2\", \"Topic3\", \"Topic3\", \"Topic3\", \"Topic3\", \"Topic3\", \"Topic3\", \"Topic3\", \"Topic3\", \"Topic3\", \"Topic3\", \"Topic3\", \"Topic3\", \"Topic3\", \"Topic3\", \"Topic3\", \"Topic3\", \"Topic3\", \"Topic3\", \"Topic3\", \"Topic3\", \"Topic3\", \"Topic3\", \"Topic3\", \"Topic3\", \"Topic3\", \"Topic3\", \"Topic3\", \"Topic3\", \"Topic3\", \"Topic3\", \"Topic3\", \"Topic3\", \"Topic3\", \"Topic3\", \"Topic3\", \"Topic3\", \"Topic3\", \"Topic3\", \"Topic3\", \"Topic3\", \"Topic3\", \"Topic3\", \"Topic3\", \"Topic3\", \"Topic3\", \"Topic3\", \"Topic3\", \"Topic3\", \"Topic3\", \"Topic3\", \"Topic3\", \"Topic3\", \"Topic3\", \"Topic3\", \"Topic3\", \"Topic3\", \"Topic3\", \"Topic3\", \"Topic4\", \"Topic4\", \"Topic4\", \"Topic4\", \"Topic4\", \"Topic4\", \"Topic4\", \"Topic4\", \"Topic4\", \"Topic4\", \"Topic4\", \"Topic4\", \"Topic4\", \"Topic4\", \"Topic4\", \"Topic4\", \"Topic4\", \"Topic4\", \"Topic4\", \"Topic4\", \"Topic4\", \"Topic4\", \"Topic4\", \"Topic4\", \"Topic4\", \"Topic4\", \"Topic4\", \"Topic4\", \"Topic4\", \"Topic4\", \"Topic4\", \"Topic4\", \"Topic4\", \"Topic4\", \"Topic4\", \"Topic4\", \"Topic4\", \"Topic4\", \"Topic4\", \"Topic4\", \"Topic4\", \"Topic4\", \"Topic4\", \"Topic4\", \"Topic4\", \"Topic4\", \"Topic4\", \"Topic4\", \"Topic4\", \"Topic4\", \"Topic4\", \"Topic4\", \"Topic4\", \"Topic4\", \"Topic4\", \"Topic4\", \"Topic4\", \"Topic4\", \"Topic4\", \"Topic4\", \"Topic4\", \"Topic4\", \"Topic4\", \"Topic4\", \"Topic4\", \"Topic4\", \"Topic4\", \"Topic4\", \"Topic4\", \"Topic4\", \"Topic5\", \"Topic5\", \"Topic5\", \"Topic5\", \"Topic5\", \"Topic5\", \"Topic5\", \"Topic5\", \"Topic5\", \"Topic5\", \"Topic5\", \"Topic5\", \"Topic5\", \"Topic5\", \"Topic5\", \"Topic5\", \"Topic5\", \"Topic5\", \"Topic5\", \"Topic5\", \"Topic5\", \"Topic5\", \"Topic5\", \"Topic5\", \"Topic5\", \"Topic5\", \"Topic5\", \"Topic5\", \"Topic5\", \"Topic5\", \"Topic5\", \"Topic5\", \"Topic5\", \"Topic5\", \"Topic5\", \"Topic5\", \"Topic5\", \"Topic5\", \"Topic5\", \"Topic5\", \"Topic5\", \"Topic5\", \"Topic5\", \"Topic5\", \"Topic5\", \"Topic5\", \"Topic5\", \"Topic5\", \"Topic5\", \"Topic5\", \"Topic5\", \"Topic6\", \"Topic6\", \"Topic6\", \"Topic6\", \"Topic6\", \"Topic6\", \"Topic6\", \"Topic6\", \"Topic6\", \"Topic6\", \"Topic6\", \"Topic6\", \"Topic6\", \"Topic6\", \"Topic6\", \"Topic6\", \"Topic6\", \"Topic6\", \"Topic6\", \"Topic6\", \"Topic6\", \"Topic6\", \"Topic6\", \"Topic6\", \"Topic6\", \"Topic6\", \"Topic6\", \"Topic6\", \"Topic6\", \"Topic6\", \"Topic6\", \"Topic6\", \"Topic6\", \"Topic6\", \"Topic6\", \"Topic6\", \"Topic6\", \"Topic6\", \"Topic6\", \"Topic6\", \"Topic6\", \"Topic6\", \"Topic6\", \"Topic6\", \"Topic6\", \"Topic6\", \"Topic6\", \"Topic6\", \"Topic6\", \"Topic6\", \"Topic6\", \"Topic6\", \"Topic6\", \"Topic6\", \"Topic6\", \"Topic7\", \"Topic7\", \"Topic7\", \"Topic7\", \"Topic7\", \"Topic7\", \"Topic7\", \"Topic7\", \"Topic7\", \"Topic7\", \"Topic7\", \"Topic7\", \"Topic7\", \"Topic7\", \"Topic7\", \"Topic7\", \"Topic7\", \"Topic7\", \"Topic7\", \"Topic7\", \"Topic7\", \"Topic7\", \"Topic7\", \"Topic7\", \"Topic7\", \"Topic7\", \"Topic7\", \"Topic7\", \"Topic7\", \"Topic7\", \"Topic7\", \"Topic7\", \"Topic7\", \"Topic7\", \"Topic7\", \"Topic7\", \"Topic7\", \"Topic7\", \"Topic7\", \"Topic7\", \"Topic7\", \"Topic7\", \"Topic7\", \"Topic7\", \"Topic7\", \"Topic7\", \"Topic7\", \"Topic7\", \"Topic7\", \"Topic7\", \"Topic7\", \"Topic7\", \"Topic7\", \"Topic8\", \"Topic8\", \"Topic8\", \"Topic8\", \"Topic8\", \"Topic8\", \"Topic8\", \"Topic8\", \"Topic8\", \"Topic8\", \"Topic8\", \"Topic8\", \"Topic8\", \"Topic8\", \"Topic8\", \"Topic8\", \"Topic8\", \"Topic8\", \"Topic8\", \"Topic8\", \"Topic8\", \"Topic8\", \"Topic8\", \"Topic8\", \"Topic8\", \"Topic8\", \"Topic8\", \"Topic8\", \"Topic8\", \"Topic8\", \"Topic8\", \"Topic8\", \"Topic8\", \"Topic8\", \"Topic9\", \"Topic9\", \"Topic9\", \"Topic9\", \"Topic9\", \"Topic9\", \"Topic9\", \"Topic9\", \"Topic9\", \"Topic9\", \"Topic9\", \"Topic9\", \"Topic9\", \"Topic9\", \"Topic9\", \"Topic9\", \"Topic9\", \"Topic9\", \"Topic9\", \"Topic9\", \"Topic9\", \"Topic9\", \"Topic9\", \"Topic9\", \"Topic9\", \"Topic9\", \"Topic9\", \"Topic9\", \"Topic9\", \"Topic9\", \"Topic9\", \"Topic9\", \"Topic9\", \"Topic9\", \"Topic9\", \"Topic9\", \"Topic9\", \"Topic9\", \"Topic9\", \"Topic9\", \"Topic9\", \"Topic9\", \"Topic9\", \"Topic9\", \"Topic9\", \"Topic9\", \"Topic9\", \"Topic10\", \"Topic10\", \"Topic10\", \"Topic10\", \"Topic10\", \"Topic10\", \"Topic10\", \"Topic10\", \"Topic10\", \"Topic10\", \"Topic10\", \"Topic10\", \"Topic10\", \"Topic10\", \"Topic10\", \"Topic10\", \"Topic10\", \"Topic10\", \"Topic10\", \"Topic10\", \"Topic10\", \"Topic10\", \"Topic10\", \"Topic10\", \"Topic10\", \"Topic10\", \"Topic10\", \"Topic10\", \"Topic10\", \"Topic10\", \"Topic10\", \"Topic10\", \"Topic10\", \"Topic10\", \"Topic10\", \"Topic10\", \"Topic10\", \"Topic10\", \"Topic10\", \"Topic10\", \"Topic10\", \"Topic10\", \"Topic10\", \"Topic11\", \"Topic11\", \"Topic11\", \"Topic11\", \"Topic11\", \"Topic11\", \"Topic11\", \"Topic11\", \"Topic11\", \"Topic11\", \"Topic11\", \"Topic11\", \"Topic11\", \"Topic11\", \"Topic11\", \"Topic11\", \"Topic11\", \"Topic11\", \"Topic11\", \"Topic11\", \"Topic11\", \"Topic11\", \"Topic11\", \"Topic11\", \"Topic11\", \"Topic11\", \"Topic11\", \"Topic11\", \"Topic11\", \"Topic11\", \"Topic11\", \"Topic11\", \"Topic11\", \"Topic11\", \"Topic11\", \"Topic11\", \"Topic11\", \"Topic11\", \"Topic11\", \"Topic11\", \"Topic11\", \"Topic11\", \"Topic11\", \"Topic11\", \"Topic11\", \"Topic11\", \"Topic11\", \"Topic11\", \"Topic11\", \"Topic11\", \"Topic11\", \"Topic11\", \"Topic11\", \"Topic11\", \"Topic11\", \"Topic11\", \"Topic11\", \"Topic11\", \"Topic11\", \"Topic11\", \"Topic11\", \"Topic11\", \"Topic11\", \"Topic11\", \"Topic11\", \"Topic11\", \"Topic11\", \"Topic11\", \"Topic11\", \"Topic11\", \"Topic11\", \"Topic11\", \"Topic11\", \"Topic11\", \"Topic11\"], \"logprob\": [30.0, 29.0, 28.0, 27.0, 26.0, 25.0, 24.0, 23.0, 22.0, 21.0, 20.0, 19.0, 18.0, 17.0, 16.0, 15.0, 14.0, 13.0, 12.0, 11.0, 10.0, 9.0, 8.0, 7.0, 6.0, 5.0, 4.0, 3.0, 2.0, 1.0, -6.1699, -6.3727, -6.6488, -6.6868, -6.7458, -5.4051, -6.9452, -6.9622, -7.1615, -7.1681, -7.2289, -7.2413, -7.2615, -7.3086, -7.3388, -7.3465, -7.3981, -7.4041, -7.4076, -7.4485, -7.4617, -7.129, -7.4997, -7.5227, -7.528, -7.5552, -7.5684, -7.5712, -7.6011, -7.6088, -6.5451, -6.1892, -7.4392, -7.1649, -5.306, -6.4299, -6.7895, -6.4888, -6.9371, -4.3273, -7.3509, -4.3892, -5.2699, -6.7881, -5.3463, -5.0437, -6.5682, -6.2166, -6.5139, -4.8042, -5.3627, -6.7456, -4.8557, -5.0657, -5.6114, -5.3759, -5.2189, -4.7483, -5.3178, -5.4498, -4.5449, -5.0068, -4.2059, -5.6166, -4.89, -5.4211, -5.1192, -5.0046, -5.0296, -5.7872, -4.8467, -5.0097, -4.9732, -4.7939, -4.9959, -4.723, -4.6978, -5.0877, -4.9802, -5.1502, -4.8921, -3.7604, -4.6138, -5.3035, -5.5223, -5.5844, -5.6033, -5.729, -5.8041, -5.8153, -5.9198, -6.0059, -6.1062, -6.1579, -6.197, -6.3222, -6.327, -6.3631, -6.364, -6.5288, -6.567, -6.6234, -6.6369, -6.6461, -6.6477, -6.6781, -6.79, -6.7929, -6.8161, -6.9304, -6.9337, -6.8015, -6.7796, -4.5729, -6.1912, -3.033, -5.7934, -5.6408, -5.4294, -5.8756, -6.0276, -5.3, -5.215, -5.6656, -5.6056, -3.5848, -4.9998, -5.6739, -5.611, -5.4659, -5.5799, -4.489, -4.7408, -4.2414, -4.6204, -4.4397, -5.259, -4.8183, -4.5905, -5.5741, -5.3066, -4.8709, -5.2541, -5.1193, -5.1077, -5.1082, -5.1954, -5.0797, -5.1817, -5.2904, -5.3256, -4.426, -4.5676, -4.9764, -5.3393, -5.4359, -5.5499, -5.5649, -5.6937, -5.6986, -5.768, -5.7843, -5.8032, -5.8054, -5.9824, -6.0789, -6.0977, -6.1758, -6.1917, -6.2041, -6.2463, -6.2834, -6.3699, -6.3889, -6.3893, -6.4078, -6.4147, -6.4395, -6.4556, -6.4692, -6.5284, -4.4901, -5.1103, -4.6925, -3.8462, -4.8026, -5.6737, -5.0094, -5.2909, -4.846, -5.5439, -4.1751, -5.2987, -5.1247, -5.0377, -4.664, -4.3018, -4.293, -4.0158, -5.3747, -5.4521, -5.3392, -5.0041, -5.1381, -5.3269, -5.1618, -5.2802, -5.3664, -5.3926, -4.9564, -5.3349, -5.7296, -5.7618, -5.95, -6.1156, -6.1674, -6.1996, -6.2639, -6.2859, -6.2985, -6.3102, -6.341, -6.3437, -6.3522, -6.4157, -6.4756, -6.5018, -6.538, -6.5484, -6.5716, -6.5881, -6.6111, -6.6407, -6.647, -6.6575, -6.0048, -6.6983, -6.7179, -6.7621, -5.4366, -6.3411, -4.1773, -4.8281, -5.3132, -4.0021, -3.9465, -4.3921, -5.7872, -5.5884, -5.657, -4.5075, -6.0704, -5.3452, -6.0199, -5.2669, -5.2571, -4.1828, -4.5201, -5.162, -5.1811, -4.4971, -4.6055, -4.1473, -4.7234, -4.8202, -4.5744, -5.0257, -5.2022, -5.2539, -4.7257, -4.3905, -5.0915, -5.1516, -4.6744, -5.1485, -5.1418, -5.0652, -5.2048, -5.252, -1.3896, -3.3098, -4.5449, -4.7898, -4.8083, -4.8266, -4.9155, -4.9451, -5.0635, -5.1894, -5.2932, -5.2953, -5.456, -5.5042, -5.5146, -5.5564, -5.6448, -5.6601, -5.6647, -5.7046, -5.7413, -5.8187, -5.833, -5.8415, -5.9128, -5.9425, -5.9565, -5.9655, -5.9953, -6.0, -3.978, -2.9791, -3.8059, -5.8721, -5.4717, -4.199, -4.6246, -4.6663, -4.8622, -4.0239, -5.2123, -5.1649, -5.0331, -4.8636, -5.0788, -5.0494, -5.0904, -5.2918, -5.0917, -5.3251, -5.3165, -4.517, -4.6438, -4.7291, -4.9234, -5.0172, -5.1498, -5.1855, -5.2733, -5.2769, -5.3312, -5.3614, -5.388, -5.4445, -5.5533, -5.5666, -5.5739, -5.6454, -5.6493, -5.6493, -5.653, -5.6598, -5.7338, -5.8421, -5.8467, -5.8656, -5.87, -5.8946, -5.9534, -5.9798, -6.01, -4.1726, -4.5693, -3.6355, -3.9556, -2.5395, -4.5152, -4.4329, -4.2477, -3.856, -5.0242, -3.4238, -4.7703, -5.073, -5.06, -4.8036, -4.0603, -4.4482, -4.484, -4.5755, -4.8675, -4.8656, -4.9757, -5.1178, -5.1248, -5.1381, -2.3104, -3.4674, -3.8191, -4.288, -4.3222, -4.6848, -4.9668, -4.9986, -5.0488, -5.2057, -5.2619, -5.2978, -5.3644, -5.3891, -5.5153, -5.5332, -5.6342, -5.6635, -5.6965, -5.7694, -5.7989, -5.818, -5.8211, -5.8421, -5.8638, -5.9585, -5.9896, -6.0066, -6.0125, -6.0324, -4.4681, -3.3647, -2.6716, -3.6191, -3.1143, -4.2464, -4.5676, -4.0832, -4.7983, -5.3035, -4.5491, -4.4264, -3.9848, -4.1002, -4.8955, -5.3228, -4.73, -4.4782, -4.8695, -5.0455, -5.0996, -5.0734, -5.1813, -3.0245, -3.15, -3.736, -3.8128, -4.289, -4.4011, -4.4932, -4.4991, -4.5033, -4.5057, -4.5403, -4.5708, -4.6936, -4.7, -4.7051, -4.7424, -4.7624, -4.7787, -4.7988, -4.89, -4.9023, -5.0547, -5.0912, -5.1029, -5.1099, -5.2676, -5.2713, -5.2924, -5.3429, -5.3591, -5.1365, -4.8668, -4.8435, -4.9867, -3.731, -3.9083, -4.4364, -4.6578, -5.3221, -7.5986, -9.7834, -9.7834, -9.7834, -9.7834, -9.7834, -9.7231, -9.7234, -9.7234, -9.7234, -9.7234, -9.7858, -9.7862, -9.7862, -9.7862, -9.784, -9.7971, -9.7949, -9.7989, -9.7953, -9.7961, -9.7955, -9.7955, -9.7955, -9.7955, -9.7955, -9.7948, -9.7949, -9.794, -9.794, -9.7896, -9.794, -9.7846, -9.7937, -9.7921, -9.7836, -9.728, -9.7904, -9.776, -9.7862, -9.781, -9.7912, -4.8809, -5.28, -9.6461, -9.6954, -9.6954, -9.6954, -9.6954, -9.6954, -9.7199, -9.7199, -9.7199, -9.7171, -9.7199, -9.7199, -9.7199, -9.7199, -9.7307, -9.7307, -9.7307, -9.7199, -9.7377, -9.7399, -9.7399, -9.7399, -9.7399, -9.7406, -9.7406, -9.7406, -9.7406, -9.7406, -9.7307, -9.7305, -9.7399, -9.7374, -9.7374, -9.6213, -9.7305, -9.7275, -9.7324, -9.7374, -9.7307, -9.7373, -9.737, -5.384, -5.6836, -9.7264, -9.738, -9.738, -9.738, -9.738, -9.738, -9.738, -9.738, -9.738, -9.738, -9.7388, -9.7395, -9.7395, -9.7395, -9.7395, -9.7395, -9.7395, -9.7395, -9.7395, -9.7395, -9.7395, -9.7395, -9.7395, -9.7395, -9.7395, -9.7395, -9.7395, -9.7395, -9.7264, -9.7391, -9.738, -9.738, -9.738, -9.738, -9.738, -9.738, -9.738, -9.738, -9.738, -9.738, -9.738, -9.738, -9.738, -9.738, -9.7303, -9.7349, -9.7349, -9.7349, -9.7364, -9.7364, -9.7364, -9.7364, -9.7364, -9.7364, -9.7364, -9.7364, -9.7364, -9.7166, -9.7364, -9.7288, -9.7288, -9.7349, -9.7349, -9.7349, -9.7364, -9.7364, -9.7349, -9.7349, -9.7349, -9.7364, -9.7349, -9.7364, -9.7364], \"loglift\": [30.0, 29.0, 28.0, 27.0, 26.0, 25.0, 24.0, 23.0, 22.0, 21.0, 20.0, 19.0, 18.0, 17.0, 16.0, 15.0, 14.0, 13.0, 12.0, 11.0, 10.0, 9.0, 8.0, 7.0, 6.0, 5.0, 4.0, 3.0, 2.0, 1.0, 0.9061, 0.9057, 0.9051, 0.905, 0.9049, 0.9043, 0.9043, 0.9042, 0.9035, 0.9035, 0.9032, 0.9031, 0.903, 0.9028, 0.9027, 0.9026, 0.9024, 0.9023, 0.9023, 0.9021, 0.902, 0.9019, 0.9018, 0.9017, 0.9017, 0.9015, 0.9014, 0.9014, 0.9012, 0.9012, 0.8932, 0.8893, 0.9004, 0.8945, 0.8536, 0.8769, 0.8848, 0.8718, 0.8841, 0.7533, 0.8972, 0.7271, 0.7829, 0.866, 0.7667, 0.7154, 0.8415, 0.8074, 0.832, 0.6577, 0.7117, 0.8496, 0.6134, 0.6398, 0.6923, 0.6445, 0.6118, 0.5351, 0.6277, 0.6197, 0.4347, 0.5293, 0.3469, 0.6312, 0.426, 0.566, 0.4658, 0.4287, 0.4142, 0.6577, 0.3134, 0.3607, 0.3066, 0.2051, 0.2869, 0.1227, 0.014, 0.2318, -0.0173, 0.1671, -0.6035, 1.2819, 1.2816, 1.2812, 1.2809, 1.2809, 1.2808, 1.2807, 1.2806, 1.2805, 1.2804, 1.2802, 1.28, 1.2799, 1.2798, 1.2795, 1.2795, 1.2794, 1.2794, 1.2789, 1.2788, 1.2786, 1.2786, 1.2786, 1.2785, 1.2784, 1.278, 1.278, 1.2779, 1.2774, 1.2774, 1.2773, 1.2759, 1.2411, 1.2665, 1.1818, 1.246, 1.2255, 1.2072, 1.2175, 1.2261, 1.1304, 1.1094, 1.1611, 1.116, 0.7038, 0.9576, 1.1076, 1.0884, 0.9657, 1.0057, 0.5101, 0.5766, 0.3115, 0.4868, 0.272, 0.7896, 0.4353, 0.2553, 0.9975, 0.6788, 0.092, 0.4848, 0.2001, 0.1751, 0.0518, 0.175, -0.1001, 0.0982, 0.2993, -0.0422, 2.0491, 2.049, 2.0485, 2.0478, 2.0476, 2.0473, 2.0473, 2.047, 2.0469, 2.0467, 2.0467, 2.0466, 2.0466, 2.046, 2.0456, 2.0455, 2.0451, 2.0451, 2.045, 2.0448, 2.0446, 2.0441, 2.044, 2.044, 2.0439, 2.0439, 2.0437, 2.0436, 2.0435, 2.0431, 2.0026, 1.9765, 1.939, 1.7978, 1.8899, 1.9448, 1.8307, 1.8498, 1.6725, 1.8379, 1.416, 1.7518, 1.6071, 1.4025, 1.0931, 0.8054, 0.6699, 0.2728, 1.5513, 1.3671, 0.8999, -0.0245, 0.2953, 0.7217, -0.0018, 0.1637, -0.0835, -0.1127, 2.0922, 2.0915, 2.0905, 2.0904, 2.0897, 2.089, 2.0887, 2.0886, 2.0882, 2.0881, 2.0881, 2.088, 2.0878, 2.0878, 2.0877, 2.0874, 2.087, 2.0868, 2.0865, 2.0865, 2.0863, 2.0862, 2.086, 2.0858, 2.0857, 2.0856, 2.0856, 2.0853, 2.0851, 2.0847, 2.0593, 2.0757, 1.982, 1.9476, 1.9715, 1.843, 1.7951, 1.8427, 1.9734, 1.9401, 1.9446, 1.6723, 1.9981, 1.8309, 1.985, 1.7595, 1.7471, 1.398, 1.4942, 1.7039, 1.6001, 1.2925, 1.3362, 1.1063, 1.262, 1.3083, 1.0321, 1.3162, 1.4227, 1.4607, 0.864, 0.3212, 1.1874, 1.1782, 0.1714, 0.8089, 0.1742, -0.8504, -0.9162, 0.9076, 3.7209, 3.7197, 3.7162, 3.7148, 3.7147, 3.7145, 3.7139, 3.7137, 3.7118, 3.7116, 3.7106, 3.7106, 3.7087, 3.7081, 3.708, 3.7074, 3.7061, 3.7059, 3.7058, 3.7052, 3.7046, 3.7033, 3.703, 3.7029, 3.7015, 3.7009, 3.7007, 3.7005, 3.6998, 3.6998, 3.6958, 3.6222, 3.5737, 3.6953, 3.567, 3.1816, 3.1658, 2.7949, 2.9187, 2.2274, 3.1041, 2.8754, 1.9744, 1.3755, 1.9943, 1.4164, 1.602, 2.0826, 0.0683, 2.0567, 0.4407, 3.8235, 3.8228, 3.8222, 3.8208, 3.82, 3.8187, 3.8183, 3.8173, 3.8173, 3.8166, 3.8162, 3.8159, 3.8152, 3.8136, 3.8134, 3.8133, 3.8121, 3.812, 3.812, 3.812, 3.8118, 3.8105, 3.8084, 3.8084, 3.808, 3.8079, 3.8073, 3.806, 3.8054, 3.8047, 3.7791, 3.786, 3.7423, 3.6107, 3.4106, 3.6468, 3.5625, 3.4066, 3.2369, 3.596, 2.9051, 3.3456, 3.4742, 3.26, 2.91, 2.0141, 2.3788, 1.8086, 1.2695, 1.4806, 0.6706, 1.2041, 2.228, 1.6069, 2.2311, 4.1139, 4.1121, 4.111, 4.1088, 4.1086, 4.1059, 4.1031, 4.1027, 4.1021, 4.1, 4.0991, 4.0985, 4.0975, 4.0971, 4.0947, 4.0943, 4.0922, 4.0915, 4.0908, 4.089, 4.0882, 4.0877, 4.0877, 4.0871, 4.0865, 4.0837, 4.0827, 4.0822, 4.082, 4.0814, 4.0736, 4.0076, 3.9567, 3.9752, 3.8313, 3.897, 3.8969, 3.7752, 3.9058, 3.9505, 3.5674, 3.2808, 2.6667, 2.7589, 3.2483, 3.7862, 2.7918, 2.0403, 2.9301, 2.8366, 3.0027, 1.251, 2.7267, 5.4401, 5.4392, 5.4334, 5.4324, 5.4238, 5.4211, 5.4187, 5.4185, 5.4184, 5.4183, 5.4173, 5.4164, 5.4126, 5.4124, 5.4122, 5.4109, 5.4102, 5.4096, 5.4089, 5.4053, 5.4048, 5.3981, 5.3964, 5.3958, 5.3954, 5.387, 5.3868, 5.3855, 5.3824, 5.3814, 5.0929, 3.3841, 3.2745, 3.1602, 7.8887, 7.8575, 7.7338, 7.6659, 7.3943, 5.7302, 3.6328, 3.6314, 3.6295, 3.6285, 3.6277, 3.6265, 3.6264, 3.6264, 3.6264, 3.6264, 3.626, 3.6245, 3.6245, 3.6241, 3.6223, 3.6199, 3.6198, 3.6196, 3.6194, 3.6194, 3.6193, 3.6193, 3.6193, 3.6193, 3.6193, 3.6187, 3.6184, 3.6176, 3.6176, 3.6118, 3.6171, 3.6012, 3.6161, 3.6122, 3.5906, 3.4353, 3.6064, 3.5481, 3.5865, 3.5605, 3.5829, 8.0613, 7.7966, 3.7646, 3.7193, 3.7193, 3.7191, 3.7161, 3.713, 3.6969, 3.6969, 3.6969, 3.6965, 3.6957, 3.6934, 3.6904, 3.6891, 3.6855, 3.6855, 3.685, 3.684, 3.6805, 3.6784, 3.6784, 3.678, 3.6779, 3.6769, 3.6769, 3.6769, 3.6769, 3.6769, 3.6756, 3.6753, 3.6766, 3.6749, 3.6749, 3.5811, 3.6632, 3.6576, 3.6567, 3.6703, 3.6417, 3.6701, 3.6484, 7.8532, 7.5985, 3.6845, 3.6805, 3.6805, 3.6805, 3.6805, 3.6805, 3.6805, 3.6805, 3.6805, 3.6805, 3.6799, 3.6793, 3.6793, 3.6793, 3.6793, 3.6793, 3.6793, 3.6793, 3.6793, 3.6793, 3.6793, 3.6793, 3.6793, 3.6793, 3.6793, 3.6793, 3.6793, 3.6793, 3.6733, 3.679, 3.6782, 3.6776, 3.6776, 3.6776, 3.6776, 3.6776, 3.6776, 3.6776, 3.6776, 3.6776, 3.6776, 3.6776, 3.6776, 3.6776, 3.669, 3.6742, 3.6742, 3.6742, 3.6759, 3.6759, 3.6759, 3.6759, 3.6759, 3.6759, 3.6756, 3.6755, 3.6754, 3.6422, 3.6747, 3.6598, 3.6577, 3.6707, 3.6705, 3.668, 3.6734, 3.6723, 3.662, 3.6618, 3.6608, 3.6683, 3.6375, 3.6623, 3.6661]}, \"token.table\": {\"Topic\": [4, 2, 3, 2, 3, 5, 1, 8, 1, 2, 8, 6, 8, 2, 3, 2, 5, 1, 2, 3, 4, 7, 1, 2, 3, 4, 1, 6, 2, 5, 2, 2, 2, 7, 3, 3, 5, 1, 3, 1, 1, 2, 1, 3, 5, 7, 5, 8, 3, 8, 3, 1, 2, 3, 4, 5, 3, 5, 5, 5, 7, 1, 2, 4, 2, 6, 8, 9, 3, 6, 7, 1, 3, 4, 6, 7, 7, 1, 7, 1, 7, 3, 3, 8, 2, 4, 8, 7, 1, 2, 2, 3, 5, 5, 2, 7, 1, 8, 7, 3, 4, 1, 3, 6, 6, 1, 2, 3, 7, 6, 6, 2, 2, 1, 1, 2, 3, 4, 1, 2, 4, 2, 3, 4, 6, 8, 1, 2, 3, 5, 6, 1, 4, 8, 4, 8, 1, 2, 3, 7, 1, 2, 5, 1, 2, 3, 4, 8, 2, 5, 4, 2, 1, 3, 5, 2, 2, 3, 4, 2, 1, 2, 3, 4, 1, 2, 3, 5, 7, 4, 1, 3, 5, 1, 3, 4, 3, 2, 4, 2, 3, 4, 7, 6, 1, 6, 7, 7, 5, 4, 6, 8, 5, 1, 3, 4, 6, 3, 6, 2, 1, 7, 1, 3, 6, 3, 3, 5, 5, 1, 4, 4, 1, 7, 4, 1, 3, 1, 2, 3, 5, 3, 7, 1, 2, 3, 5, 1, 5, 7, 1, 3, 7, 1, 2, 3, 4, 1, 3, 4, 6, 2, 8, 1, 2, 1, 3, 6, 6, 1, 3, 6, 7, 7, 1, 2, 1, 5, 7, 2, 4, 1, 2, 3, 4, 5, 6, 3, 8, 1, 2, 3, 5, 1, 2, 7, 2, 1, 2, 6, 7, 1, 1, 4, 7, 1, 5, 2, 8, 6, 1, 2, 3, 5, 6, 6, 1, 2, 3, 5, 1, 2, 4, 7, 1, 2, 3, 4, 5, 6, 1, 6, 1, 2, 4, 6, 7, 1, 3, 4, 7, 3, 6, 3, 1, 2, 3, 4, 1, 3, 6, 8, 6, 1, 2, 3, 5, 3, 3, 1, 1, 4, 1, 2, 4, 4, 1, 2, 1, 1, 2, 3, 4, 6, 6, 1, 1, 2, 4, 7, 9, 6, 7, 6, 1, 7, 2, 1, 1, 2, 3, 4, 6, 4, 6, 4, 8, 4, 6, 1, 2, 7, 1, 2, 3, 6, 1, 1, 2, 3, 4, 6, 1, 4, 3, 4, 6, 1, 2, 3, 4, 6, 1, 2, 4, 1, 3, 5, 2, 1, 2, 7, 1, 2, 3, 4, 6, 1, 2, 3, 7, 1, 2, 3, 7, 1, 3, 6, 1, 2, 3, 4, 8, 2, 2, 2, 5, 1, 2, 3, 4, 6, 7, 6, 1, 3, 3, 4, 7, 1, 2, 6, 6, 7, 1, 2, 3, 1, 2, 3, 4, 5, 1, 2, 4, 6, 8, 2, 3, 4, 1, 2, 3, 5, 6, 1, 4, 1, 3, 5, 7, 8, 1, 2, 3, 4, 3, 7, 3, 5, 1, 2, 3, 4, 1, 3, 5, 4, 1, 1, 4, 7, 1, 1, 1, 3, 1, 6, 8, 4, 1, 2, 3, 1, 2, 3, 4, 6, 5, 5, 5, 1, 4, 4, 4, 8, 4, 6, 1, 5, 3, 6, 1, 2, 4, 1, 2, 3, 8, 2, 4, 4, 4, 4, 1, 5, 6, 1, 2, 3, 6, 5, 6, 3, 5, 6, 7, 6, 6, 1, 2, 3, 4, 1, 4, 8, 1, 2, 4, 6, 7, 2, 3, 1, 3, 4, 5, 1, 2, 3, 4, 1, 1, 1, 2, 3, 1, 2, 3, 1, 2, 3, 4, 1, 2, 3, 8, 6, 3, 5, 8, 2, 4, 1, 3, 4, 6, 4, 3, 1, 2, 3, 4, 6, 8, 8, 6, 9, 3, 1, 7, 1, 2, 3, 6, 2, 1, 2, 3, 7, 8, 1, 4, 6, 1, 4, 8, 6, 1, 2, 3, 1, 2, 3, 5, 9, 1, 4, 1, 2, 3, 8, 6, 3, 7, 2, 1, 2, 4, 8, 4, 3, 5, 5, 7, 5, 4, 7, 1, 2, 3, 5, 7, 1, 2, 3, 1, 3, 5, 4, 7, 2, 3, 4, 1, 3, 4, 5, 6, 6, 7, 1, 6, 5, 2, 3, 4, 4, 1, 2, 6, 1, 2, 3, 4, 5, 7, 1, 2, 3, 4, 5, 6, 2, 4, 3, 4, 3, 5, 1, 2, 3, 5, 6, 2, 3, 6, 1, 2, 3, 4, 1, 2, 3, 5, 1, 2, 3, 4, 1, 2, 3, 5, 1, 2, 2, 5, 1, 2, 4, 5, 1, 2, 4, 7, 1, 2, 3, 4, 1, 2, 4, 2, 1, 6, 1, 1, 1, 2, 3, 5, 7, 1, 2, 3, 1, 2, 3, 4, 2, 4, 8, 3, 7, 2, 3, 1, 5, 6, 3, 5, 1, 2, 3, 4, 9, 1, 2, 3, 4, 1, 3, 7, 1, 2, 3, 4, 3, 5, 3, 4, 2, 1, 2, 3, 7, 1, 2, 7, 1, 2, 3, 4, 5, 1, 2, 3, 1, 2, 3, 4, 4, 4, 1, 4, 1, 2, 3, 4, 6, 3, 1, 2, 3, 4, 6], \"Freq\": [0.9909500836750005, 0.9987219702947597, 0.9976344755329642, 0.027298578035100454, 0.8513744024696954, 0.11943127890356449, 0.9984478829546718, 0.9859651276364265, 0.27078427937880667, 0.7282256833779558, 0.9209262115674921, 0.2931383096419767, 0.7035319431407441, 0.9980748650563892, 0.9990895351761628, 0.9991827025444665, 0.9860491227157652, 0.13241403584714437, 0.8392438891720418, 0.005594959261146945, 0.02237983704458778, 0.9939270433462076, 0.39671379784581184, 0.30411698461864295, 0.2514638947443704, 0.047508822472763126, 0.9856063230849634, 0.010791310106769673, 0.9981385113791336, 0.9620746312318088, 0.9987649918274547, 0.9998107760356739, 0.9958199670351984, 0.9519278584336878, 0.9908819434613498, 0.9955249787213584, 0.9809714887271447, 0.983928910617022, 0.00669339394977566, 0.988843288437479, 0.014670315865819596, 0.982911163009913, 0.2650580677273707, 0.6076941064968987, 0.08619774560239697, 0.040943929161138565, 0.9969388604357294, 0.9865474557702901, 0.9977738997165907, 0.8999734423766105, 0.9919432130180759, 0.34447404358154765, 0.18926044836311776, 0.16022048538676634, 0.30542030026852335, 0.9853412337333908, 0.997673650029412, 0.9990552545688063, 0.9923890148706498, 0.9821945205550039, 0.9756040232523894, 0.9426070671043444, 0.02524840358315208, 0.029456470847010762, 0.9953839966648107, 0.9795930030258521, 0.9871742986794971, 0.7050080437059424, 0.08125849083784614, 0.9175437923773461, 0.9782548756419317, 0.16487243070915453, 0.6852958424258772, 0.01577040641565826, 0.007168366552571936, 0.12616325132526607, 0.979596842764449, 0.9980751794111695, 0.9784788399107557, 0.26770955609365643, 0.7266402236827817, 0.9919461922731493, 0.9972363212527002, 0.9935940170757902, 0.343358252363246, 0.5552175995661, 0.10227692623586052, 0.9677660931192512, 0.054806503896694496, 0.9459196598466532, 0.17895294729646438, 0.8173074906375836, 0.0026709395118875282, 0.993466865467887, 0.1261290756184721, 0.8702906217674573, 0.9989250950036517, 0.9180509292061476, 0.9758487092482335, 0.990046511754716, 0.9894318266661658, 0.5771630983951201, 0.21971549768450596, 0.2033188187528264, 0.9781132057031814, 0.8688529071174274, 0.018160841842938525, 0.11278838618246032, 0.984101738200783, 0.9778076617016884, 0.990674393241655, 0.9977987435894017, 0.9985895275120156, 0.995315431644911, 0.8061750174404986, 0.031229161364266084, 0.1075671113658054, 0.055518509092028594, 0.0018542696099082376, 0.13165314230348488, 0.8640896382172387, 0.21919521494691666, 0.03573835026308424, 0.7147670052616848, 0.023825566842056157, 0.007147670052616848, 0.40281881001742925, 0.07940178466689711, 0.5054601414161012, 0.007746515577258255, 0.005809886682943691, 0.006903891711164245, 0.9941604064076512, 0.9779745912042533, 0.9878530186403152, 0.9415977447306224, 0.014173754914135259, 0.2763882208256376, 0.12756379422721734, 0.5811239514795457, 0.6499512682440581, 0.17534656517375669, 0.17534656517375669, 0.5483967113934619, 0.30618816386134956, 0.11508021898180981, 0.030327999948274786, 0.9663672013796015, 0.9978210444164919, 0.9908573029667113, 0.9942833274021013, 0.9992621602648355, 0.3217682453823737, 0.24953455764347346, 0.4268354275480467, 0.9975961144286313, 0.9596916044066939, 0.004252695440502336, 0.0354391286708528, 0.9945203844854528, 0.007733675074428895, 0.9045535512980166, 0.034944754040012044, 0.052703563470182097, 0.8570929538211506, 0.06603496149376617, 0.0694388254882902, 0.0027230911956192235, 0.004765409592333641, 0.9963517912290539, 0.05765751329716137, 0.0780072238726301, 0.8614710810281758, 0.23132604303534765, 0.09131291172447933, 0.6777447225772466, 0.9993451301855362, 0.9449830057893812, 0.05382814589939513, 0.16263957038523974, 0.7773214761059252, 0.059793959700455784, 0.9708782801503426, 0.9847969361515921, 0.0033671960710272195, 0.09764868605978937, 0.8990413509642676, 0.9553142922272172, 0.9677504283290452, 0.19937665869238844, 0.7975066347695537, 0.9847415437140068, 0.9925114477232183, 0.01226439045010775, 0.08993886330079016, 0.09402699345082607, 0.8053616395570755, 0.16317169677732352, 0.830692274502738, 0.9977621956869231, 0.14560345726623472, 0.8544202876941687, 0.601334834764657, 0.001186064762849422, 0.3973316955545564, 0.9972374410842944, 0.9952988524498183, 0.9942880161746533, 0.9905791232883207, 0.9982385782793189, 0.998412917085332, 0.9956810410183836, 0.747891038392745, 0.24737934346836948, 0.9975045508690413, 0.9862404770203578, 0.00808393833623244, 0.5590041965624905, 0.08704688218977953, 0.2543401088982621, 0.09928784999771728, 0.7175644884567901, 0.28029862830343366, 0.7558269886956946, 0.06790317331597685, 0.17460815995536905, 0.0016167422218089727, 0.45871774028901197, 0.5366132056211084, 0.9866181603309486, 0.4716555659059011, 0.29150934281684165, 0.23582778295295054, 0.46034151401760176, 0.021437472466505965, 0.11395709047984749, 0.40392711278995447, 0.8221012542714013, 0.013793645205895995, 0.000919576347059733, 0.16276501342957275, 0.9995114317290911, 0.9909003019877483, 0.9280824134174717, 0.07214774945294833, 0.965080514806066, 0.02662291075327079, 0.006655727688317697, 0.9790284752692217, 0.6569027683312335, 0.007820271051562305, 0.06647230393827959, 0.26588921575311836, 0.9940122846041517, 0.0709887388871539, 0.9276937468207612, 0.9473003903137102, 0.0520714802286606, 0.9969649868045191, 0.9977903101293598, 0.9956232133394837, 0.5375484889757034, 0.33044647423080065, 0.11834400842565873, 0.011251014885537978, 0.0008334085100398503, 0.0012501127650597754, 0.9971473760914488, 0.9866238548110576, 0.7590459949490458, 0.19687071915104934, 0.04265532248272736, 0.0021874524350116594, 0.9792128701801768, 0.018217913863817242, 0.9994565661789507, 0.9969873546303741, 0.11768928383613995, 0.8466602210301412, 0.03513112950332536, 0.9795516119078194, 0.9940510549145603, 0.32006218967011274, 0.37168512348787286, 0.3045753095247847, 0.993377446953395, 0.9825130309141248, 0.9979557090613916, 0.9911844271028254, 0.9751373826546325, 0.552082310352044, 0.2922571909941061, 0.1286226477388941, 0.025798238801497383, 0.0011056388057784593, 0.9930394652549929, 0.7790163548450969, 0.0757584682894784, 0.12709479877511176, 0.01794279512119225, 0.22372717325051716, 0.12864312461904737, 0.6096565471076593, 0.03542346909799855, 0.619526878415886, 0.1661436429215394, 0.17292501610201041, 0.04117262288143105, 0.996456883999614, 0.9826831165587568, 0.9989701082501538, 0.9957046009202716, 0.0014622385551389977, 0.1396437820157743, 0.7779109113339469, 0.07749864342236688, 0.0029244771102779955, 0.2694596674259588, 0.10924040571322653, 0.19663273028380776, 0.4223962354244759, 0.9001603528360581, 0.09906070868530784, 0.9978940138453481, 0.4820608923150768, 0.16356665880224827, 0.008063145152223507, 0.34613930260616627, 0.44413734908442337, 0.523684336980141, 0.03181879515828705, 0.9773517289435235, 0.9968240691578958, 0.6705640297810131, 0.02414469501666496, 0.0801164880098428, 0.22498465810983256, 0.9975387246330505, 0.9991621924091562, 0.9974334580477477, 0.14170101023395282, 0.8580783397500477, 0.7494839261700567, 0.20315681515232303, 0.04667116023769583, 0.9856652605549869, 0.991620719124725, 0.9995502213455758, 0.9921784495127781, 0.05860828454508776, 0.040100405215060045, 0.018507879330027715, 0.8852935612863256, 0.9898185678106732, 0.9881676297529385, 0.9953747801852185, 0.05167233967297346, 0.48788302109830756, 0.4590426454668805, 0.9897787585082768, 0.8174446796406318, 0.13262743490373544, 0.8399737543903244, 0.9810253064362189, 0.1906998734214753, 0.8029468354588433, 0.9969706214844178, 0.9942116045957823, 0.13161635459103144, 0.2632327091820629, 0.04069716227485841, 0.5489787421757496, 0.014720250184523253, 0.2323095690993973, 0.7659937143277424, 0.9976424215424301, 0.9529145704269031, 0.9989508573254525, 0.985830471145625, 0.3563570320464333, 0.31443267533508823, 0.3284074609055366, 0.9595209772668191, 0.026777329598143787, 0.013388664799071893, 0.9949501938909856, 0.9958453216945139, 0.5087392940921236, 0.3388713734649319, 0.10762623978669393, 0.04279115557784217, 0.0017289355789027138, 0.2912931406974374, 0.7060945730505882, 0.2549800552580675, 0.12749002762903375, 0.6162018002069966, 0.5549789708999222, 0.07133716619410765, 0.2720485151470207, 0.006045522558822683, 0.09551925642939839, 0.5009531124348195, 0.0973416000465763, 0.4000502343377587, 0.03312293413988114, 0.5704505324090641, 0.3974752096785737, 0.995154721266858, 0.10154542596229255, 0.8418824268734254, 0.056676516816163286, 0.20589990844516928, 0.451301836676933, 0.28805012658543205, 0.05068843246952385, 0.0038453293597569818, 0.3247306752389697, 0.07059362505194994, 0.16942470012467986, 0.43297423365195964, 0.768372582788788, 0.18120351158737857, 0.04878556081198654, 0.0008711707287854739, 0.2484382511645325, 0.6423903351540055, 0.1082480951502606, 0.6892160420367739, 0.2660132092071759, 0.03252199109429423, 0.01250845811319009, 0.9937792364223355, 0.9960643115021847, 0.9964627586485357, 0.9970862773439245, 0.9788707338594496, 0.6104076321199502, 0.19286335770269478, 0.15174528144120655, 0.03916007262998879, 0.005874010894498318, 0.998305796587177, 0.9893713407425423, 0.46904286024192676, 0.5302963413859753, 0.954247372470363, 0.04610565635654755, 0.9874699143619021, 0.24320576578544903, 0.19109024454570994, 0.5645848134305067, 0.9539204981495205, 0.03599699993017058, 0.9055207593412786, 0.08793771153707955, 0.007130084719222666, 0.37298505534703397, 0.15504902010065655, 0.31660359349224976, 0.05854997961842975, 0.09541478160040404, 0.34047728724518816, 0.2513046643952579, 0.22698485816345876, 0.048639612463598304, 0.12970563323626216, 0.016051644549328937, 0.8956817658525547, 0.08828404502130915, 0.7792054390895111, 0.13985738650324558, 0.00532790043821888, 0.01731567642421136, 0.058606904820407674, 0.9968301614003544, 0.002326324764061504, 0.5242220238049284, 0.2845776700655326, 0.17723696995309485, 0.0124814767572602, 0.9565366662894824, 0.7450280434637454, 0.1516162190876355, 0.08835912105769488, 0.01455917335609745, 0.28469731203051785, 0.7117432800762947, 0.992885270880767, 0.9888982294164652, 0.35176778875426123, 0.4503942715825588, 0.11572173985186912, 0.08218873569024795, 0.9984044253554816, 0.09344947254403363, 0.9064598836771262, 0.9903322363569614, 0.9931538493387999, 0.9964298672821604, 0.03252591574961023, 0.9649355005717702, 0.9993492685997416, 0.9958072612337594, 0.975888358901234, 0.02110028884110776, 0.9961903786663556, 0.9776512989719874, 0.9753855217799001, 0.9885167179477249, 0.9902364123602522, 0.9372391574931995, 0.06112429287999127, 0.28865037637255453, 0.16446358653785084, 0.18124558516416214, 0.16110718681258857, 0.20138398351573572, 0.9908710912805306, 0.9939280605382316, 0.9830554174446172, 0.9963729207779444, 0.9958726162083233, 0.9987935763394593, 0.9929054081877904, 0.9433633990636899, 0.5968823142322385, 0.39792154282149234, 0.8030525339031307, 0.19570187801000663, 0.9987701611198804, 0.9790681455283329, 0.4754227395485231, 0.025819889042776933, 0.49843611891273737, 0.9712857139323805, 0.009460575135705005, 0.01892115027141001, 0.962684976070948, 0.22131770354899008, 0.7783905573601065, 0.9985703931166964, 0.9946099076883919, 0.9975261674782797, 0.47627369626768284, 0.4458732475697456, 0.076001121744843, 0.9966458205610792, 0.8598705412404041, 0.14046740139347058, 0.9794200729807251, 0.9741914036910765, 0.9680985435916748, 0.9941665586192299, 0.9751753967507237, 0.9961739647028282, 0.9942699515471999, 0.9830511222194848, 0.9903007519976482, 0.00697707259493086, 0.09593474818029932, 0.36455204308513744, 0.5302575172147453, 0.1014118333049872, 0.9000300205817614, 0.9393096607487315, 0.3446616939985706, 0.18602068063941543, 0.46867548109151425, 0.17855688886811674, 0.8162600633971051, 0.9947962452631653, 0.992999871941642, 0.3021686160224509, 0.013580611956065209, 0.09845943668147276, 0.583966314110804, 0.48835655047936244, 0.05810474538281366, 0.004150338955915262, 0.44892833039816743, 0.9974917984171642, 0.9983952431352219, 0.06580207793170745, 0.0025308491512195173, 0.9288216384975628, 0.1878748636526999, 0.007910520574850522, 0.802917838347328, 0.7438131836799876, 0.1837910482930202, 0.06919192406325467, 0.0028829968359689443, 0.12367245401304526, 0.6111928524412816, 0.2652684520859521, 0.927036825320182, 0.9686588236491974, 0.9923092050930609, 0.9896027890532918, 0.9952702133455374, 0.9963888222888473, 0.9956990471411091, 0.07508669620365258, 0.028032366582696963, 0.8940322627981567, 0.002002311898764069, 0.9902139995428935, 0.9924604199783357, 0.6302542226885586, 0.06176720149760828, 0.10637684702365871, 0.06863022388623143, 0.13268509951338076, 0.9892597407571647, 0.9504790622847821, 0.9751152670058448, 0.4759959073339561, 0.9982411320827731, 0.9978768818740388, 0.9724019111841141, 0.009758705280403063, 0.745565083422794, 0.009758705280403063, 0.2342089267296735, 0.9935256215610361, 0.5361146209393484, 0.18945403897856672, 0.016123747998175893, 0.2579799679708143, 0.9751831978373154, 0.04658382646074711, 0.8596833428665148, 0.08893275960688084, 0.00956940062263586, 0.9856482641314935, 0.9815597677489213, 0.9753698410303435, 0.6231000117825947, 0.25108622697017147, 0.12554311348508573, 0.4258578170874099, 0.15199642213654407, 0.38434337579901456, 0.03749691471209898, 0.8165553319804385, 0.2577574141697964, 0.7416293885959615, 0.41165437045674075, 0.10646233718708813, 0.3690694355819055, 0.113559826332894, 0.9938964663864762, 0.9994322939170858, 0.9955110929299875, 0.9971162366943339, 0.2028865673446511, 0.34073294324388775, 0.4562520892439522, 0.9828222099586442, 0.9878213370974904, 0.995728081034434, 0.999590891761905, 0.9873748220363239, 0.973316386734982, 0.9815473638254427, 0.9856586862816271, 0.9575690361286029, 0.07672604491191803, 0.2506384133789322, 0.09718632355509617, 0.5728878020089879, 0.9849869358926138, 0.764985871682556, 0.2308311483131902, 0.003815390881209756, 0.9367844882525491, 0.01747732254202517, 0.04544103860926545, 0.9912162388574549, 0.975570417304141, 0.9980867181296363, 0.999478071283986, 0.9905683139322081, 0.1594135246380566, 0.07357547290987228, 0.6560479667796945, 0.03780961802312881, 0.07255359134167962, 0.9892523736983406, 0.9925713283455783, 0.048082622399942106, 0.9496317923988565, 0.9964108370937829, 0.7529583914255444, 0.009071787848500535, 0.23737844870243066, 0.9987596508111277, 0.4456033304429636, 0.0025463047453883635, 0.5525481297492748, 0.18338670247825092, 0.19295470434668138, 0.09727468566237657, 0.5118880999610308, 0.014352002802645723, 0.9922293950042322, 0.685007072861297, 0.062273370260117915, 0.10414684336605927, 0.10038896757450043, 0.005368393987941199, 0.042410312504735474, 0.10922537073930912, 0.8886973346516515, 0.030480655228799714, 0.967760803514391, 0.9991556248258099, 0.9664915895694267, 0.1023193703648872, 0.12668112521366987, 0.10394348735480605, 0.008120584949594221, 0.6577673809171319, 0.24553155873772883, 0.09821262349509154, 0.6562388933535661, 0.13111927095478587, 0.42897045435825004, 0.0671783919089335, 0.3727186683622154, 0.8252430403489351, 0.16907418387636722, 0.004696505107676867, 0.0006709293010966952, 0.8350078377852113, 0.12346968450562903, 0.03104380638998673, 0.010583115814768203, 0.5709146630197515, 0.3789363239951709, 0.0397612041076014, 0.010442336432299358, 0.9813754393851148, 0.017569381267764205, 0.1425748626961872, 0.8554491761771232, 0.01766626717204718, 0.5468130315157461, 0.4349266727594473, 0.9825150490809839, 0.4953921238155331, 0.4621359077772516, 0.033256216038281515, 0.009412136614607975, 0.010732220594052546, 0.7589213134365729, 0.013798569335210415, 0.21617758625162983, 0.3330436746995744, 0.3743909336333651, 0.29226281657309594, 0.9938432712729588, 0.2943651166876767, 0.6977543506670855, 0.9973755709344428, 0.9959605501245005, 0.5785451156096295, 0.33066218478632126, 0.07004398412254949, 0.020467397957887837, 0.9775965120717588, 0.16147866844170458, 0.8245719239576405, 0.013742865399294008, 0.2206360500757864, 0.5609182041758987, 0.16913888674572863, 0.049338599597660134, 0.7231555712218233, 0.2765006595848148, 0.9791928624097186, 0.9960777811133003, 0.9929161694877485, 0.9654333872051484, 0.03379016855218019, 0.9989484352424848, 0.9676936114326004, 0.9956268983141066, 0.022760324329429975, 0.9741418812996029, 0.477042586461159, 0.49386416048646203, 0.015096284381682246, 0.014233639559871832, 0.9417378699547803, 0.0634539502939191, 0.16595648538409613, 0.7419231111289003, 0.029286438597193435, 0.16016333970412452, 0.036400759023664665, 0.8008166985206226, 0.6426553369554319, 0.2970871601539584, 0.054682076916383236, 0.005637327517152911, 0.8090529158059555, 0.1903653919543425, 0.22969617712994453, 0.769343822194272, 0.9993959358408052, 0.8828598342369048, 0.06119721582885782, 0.04229807564641644, 0.01349938584460099, 0.10328254684827466, 0.14283756479016707, 0.7537428418927278, 0.6176894697407381, 0.11716285618513303, 0.09821004121400857, 0.14688431602621457, 0.01981430656072103, 0.0058533271047348815, 0.8858035018498788, 0.1073109969201395, 0.4562197887465808, 0.35824692555852455, 0.03929680776224236, 0.1461518261294356, 0.9934208515003758, 0.9941904548891871, 0.08781313186824552, 0.9119056001702419, 0.40910919166943216, 0.3641495509278547, 0.05484605388893998, 0.16995214981894707, 0.0018831263137833471, 0.995786976970536, 0.7103525649847214, 0.1963370671903204, 0.004213241785200009, 0.08426483570400017, 0.004213241785200009], \"Term\": [\"academic\", \"access\", \"accuracy\", \"accurate\", \"accurate\", \"accurate\", \"action\", \"ad\", \"add\", \"add\", \"afford\", \"affordable\", \"affordable\", \"aggregate\", \"air\", \"airtable\", \"alarm\", \"allow\", \"allow\", \"allow\", \"allow\", \"almond\", \"also\", \"also\", \"also\", \"also\", \"amount\", \"amount\", \"android\", \"anecdotally\", \"api\", \"app\", \"apple\", \"approximate\", \"arrhythmia\", \"artifact\", \"asleep\", \"attempt\", \"attempt\", \"audio\", \"automatically\", \"automatically\", \"average\", \"average\", \"average\", \"average\", \"awake\", \"award\", \"azure\", \"ball\", \"band\", \"base\", \"base\", \"base\", \"base\", \"battle\", \"beat\", \"bed\", \"bedside\", \"bedtime\", \"beef\", \"begin\", \"begin\", \"begin\", \"beta\", \"bias\", \"biomedical\", \"blend\", \"blood\", \"blood\", \"bmi\", \"body\", \"body\", \"body\", \"body\", \"body\", \"bodybuilde\", \"book\", \"bread\", \"breakfast\", \"breakfast\", \"breathe\", \"breathing\", \"budget\", \"business\", \"business\", \"business\", \"butter\", \"button\", \"button\", \"buy\", \"buy\", \"buy\", \"caffeine\", \"calorie\", \"calorie\", \"camera\", \"campaign\", \"carb\", \"cardio\", \"career\", \"cause\", \"cause\", \"cause\", \"cgm\", \"change\", \"change\", \"change\", \"cheese\", \"chemical\", \"cholesterol\", \"cloud\", \"code\", \"coffee\", \"come\", \"come\", \"come\", \"come\", \"community\", \"community\", \"community\", \"company\", \"company\", \"company\", \"company\", \"company\", \"compare\", \"compare\", \"compare\", \"compare\", \"compare\", \"conference\", \"conference\", \"consent\", \"consideration\", \"consult\", \"consume\", \"consume\", \"consume\", \"consume\", \"correlation\", \"correlation\", \"correlation\", \"could\", \"could\", \"could\", \"could\", \"credit\", \"csv\", \"cultural\", \"culture\", \"custom\", \"cycle\", \"cycle\", \"cycle\", \"dashboard\", \"data\", \"data\", \"data\", \"dataset\", \"datum\", \"datum\", \"datum\", \"datum\", \"day\", \"day\", \"day\", \"day\", \"day\", \"debate\", \"deep\", \"deep\", \"deep\", \"design\", \"design\", \"design\", \"detect\", \"developer\", \"developer\", \"device\", \"device\", \"device\", \"diabete\", \"diabetic\", \"diet\", \"diet\", \"diet\", \"dietary\", \"diminish\", \"disease\", \"disease\", \"dislike\", \"disturb\", \"doctor\", \"doctor\", \"doctor\", \"doctor\", \"dose\", \"dose\", \"download\", \"eat\", \"eat\", \"effect\", \"effect\", \"effect\", \"efficiency\", \"electrode\", \"emfit\", \"emfit_qs\", \"emotion\", \"employee\", \"employer\", \"energy\", \"energy\", \"engage\", \"enjoy\", \"enjoy\", \"enough\", \"enough\", \"enough\", \"enough\", \"estimate\", \"estimate\", \"even\", \"even\", \"even\", \"even\", \"evening\", \"evening\", \"exclude\", \"exercise\", \"exercise\", \"exercise\", \"experience\", \"experience\", \"experience\", \"experience\", \"experiment\", \"experiment\", \"experiment\", \"experiment\", \"export\", \"facebook\", \"fact\", \"fact\", \"factor\", \"factor\", \"factor\", \"failure\", \"fast\", \"fast\", \"fast\", \"fast\", \"fat\", \"feature\", \"feature\", \"feel\", \"feel\", \"fiber\", \"file\", \"financial\", \"find\", \"find\", \"find\", \"find\", \"find\", \"find\", \"finger\", \"firm\", \"first\", \"first\", \"first\", \"first\", \"flow\", \"flow\", \"food\", \"format\", \"free\", \"free\", \"free\", \"fruit\", \"fun\", \"gain\", \"gain\", \"gain\", \"game\", \"gap\", \"garmin\", \"generous\", \"genomic\", \"get\", \"get\", \"get\", \"get\", \"get\", \"glucose\", \"go\", \"go\", \"go\", \"go\", \"goal\", \"goal\", \"goal\", \"goal\", \"good\", \"good\", \"good\", \"good\", \"growth\", \"gut\", \"happiness\", \"headache\", \"health\", \"health\", \"health\", \"health\", \"health\", \"healthy\", \"healthy\", \"healthy\", \"healthy\", \"heart\", \"heart\", \"heart_rate\", \"help\", \"help\", \"help\", \"help\", \"high\", \"high\", \"high\", \"hike\", \"hormone\", \"hour\", \"hour\", \"hour\", \"hour\", \"hr\", \"hrv\", \"huge\", \"human\", \"human\", \"idea\", \"idea\", \"idea\", \"illustrate\", \"immediately\", \"import\", \"impressive\", \"individual\", \"individual\", \"individual\", \"individual\", \"infection\", \"inflammation\", \"influence\", \"information\", \"information\", \"information\", \"ingredient\", \"inspiration\", \"insulin\", \"insulin\", \"insurance\", \"intake\", \"intake\", \"integration\", \"intention\", \"interested\", \"interested\", \"interested\", \"interested\", \"interested\", \"intervention\", \"intervention\", \"interview\", \"investment\", \"invite\", \"irregular\", \"item\", \"item\", \"item\", \"job\", \"job\", \"job\", \"ketone\", \"kid\", \"know\", \"know\", \"know\", \"know\", \"know\", \"knowledge\", \"knowledge\", \"lab\", \"lab\", \"lab\", \"level\", \"level\", \"level\", \"level\", \"level\", \"life\", \"life\", \"life\", \"light\", \"light\", \"light\", \"location\", \"log\", \"log\", \"log\", \"look\", \"look\", \"look\", \"look\", \"look\", \"lose\", \"lose\", \"lose\", \"lose\", \"lot\", \"lot\", \"lot\", \"lot\", \"low\", \"low\", \"low\", \"make\", \"make\", \"make\", \"make\", \"management\", \"manager\", \"manual\", \"manually\", \"mattress\", \"may\", \"may\", \"may\", \"may\", \"may\", \"meal\", \"meanwhile\", \"measure\", \"measure\", \"measurement\", \"measurement\", \"meat\", \"medication\", \"medication\", \"medication\", \"microbiome\", \"microbiome\", \"mind\", \"mind\", \"mind\", \"minute\", \"minute\", \"minute\", \"minute\", \"minute\", \"money\", \"money\", \"money\", \"money\", \"money\", \"monitor\", \"monitor\", \"monitor\", \"month\", \"month\", \"month\", \"month\", \"month\", \"mood\", \"mood\", \"morning\", \"morning\", \"morning\", \"morning\", \"mouth\", \"much\", \"much\", \"much\", \"much\", \"muscle\", \"muscle\", \"muse\", \"nap\", \"need\", \"need\", \"need\", \"need\", \"negative\", \"night\", \"night\", \"norm\", \"normally\", \"notion\", \"nutrition\", \"nutrition\", \"observation\", \"observe\", \"obvious\", \"obvious\", \"occur\", \"oil\", \"operation\", \"opportunity\", \"optimize\", \"option\", \"option\", \"order\", \"order\", \"order\", \"order\", \"order\", \"oura\", \"oura_re\", \"oura_ring\", \"pain\", \"participant\", \"participate\", \"participation\", \"patent\", \"patient\", \"patient\", \"pattern\", \"pattern\", \"peak\", \"peanut\", \"people\", \"people\", \"people\", \"perhaps\", \"perhaps\", \"perhaps\", \"peripheral\", \"personal\", \"personal\", \"personalize\", \"personalized\", \"perspective\", \"phase\", \"phase\", \"phase\", \"phenomenon\", \"phone\", \"phone\", \"physician\", \"pillow\", \"placebo\", \"polar\", \"polysomnography\", \"potassium\", \"pound\", \"precise\", \"prescription\", \"product\", \"product\", \"product\", \"product\", \"professional\", \"professional\", \"profitable\", \"project\", \"project\", \"project\", \"protein\", \"protein\", \"pull\", \"pulse\", \"quality\", \"quality\", \"quality\", \"quality\", \"question\", \"question\", \"question\", \"question\", \"quickly\", \"random\", \"rate\", \"rate\", \"rate\", \"reading\", \"reading\", \"reading\", \"really\", \"really\", \"really\", \"really\", \"record\", \"record\", \"record\", \"reddit\", \"reintroduce\", \"reliable\", \"rem\", \"remote\", \"request\", \"rescuetime\", \"research\", \"research\", \"research\", \"research\", \"researcher\", \"respiratory_rate\", \"result\", \"result\", \"result\", \"result\", \"result\", \"revenue\", \"ride\", \"rolling\", \"root\", \"rr\", \"rule\", \"salmon\", \"sample\", \"sample\", \"sample\", \"sample\", \"save\", \"scale\", \"scale\", \"scale\", \"scale\", \"scanner\", \"science\", \"science\", \"science\", \"scientist\", \"scientist\", \"scratch\", \"seasonal\", \"see\", \"see\", \"see\", \"seem\", \"seem\", \"seem\", \"seem\", \"selection\", \"self\", \"self\", \"sell\", \"sell\", \"sell\", \"sell\", \"sensitivity\", \"sensor\", \"settle\", \"setup\", \"share\", \"share\", \"share\", \"shirt\", \"sick\", \"signal\", \"sleep\", \"sleeping\", \"snack\", \"snore\", \"society\", \"sodium\", \"stage\", \"stage\", \"stage\", \"stage\", \"star\", \"start\", \"start\", \"start\", \"state\", \"state\", \"state\", \"statement\", \"stationary\", \"store\", \"stress\", \"student\", \"study\", \"study\", \"study\", \"study\", \"study\", \"substance\", \"substantially\", \"supplement\", \"supplement\", \"supply\", \"support\", \"support\", \"support\", \"survey\", \"symptom\", \"symptom\", \"symptom\", \"system\", \"system\", \"system\", \"system\", \"system\", \"systematic\", \"take\", \"take\", \"take\", \"take\", \"take\", \"take\", \"team\", \"team\", \"technology\", \"technology\", \"temperature\", \"terribly\", \"test\", \"test\", \"test\", \"test\", \"test\", \"testing\", \"testing\", \"testing\", \"thank\", \"thank\", \"thank\", \"thank\", \"thing\", \"thing\", \"thing\", \"thing\", \"think\", \"think\", \"think\", \"think\", \"time\", \"time\", \"time\", \"time\", \"today\", \"today\", \"tone\", \"tone\", \"tool\", \"tool\", \"tool\", \"toss\", \"track\", \"track\", \"track\", \"track\", \"tracker\", \"tracker\", \"tracker\", \"tracker\", \"tracking\", \"tracking\", \"tracking\", \"transfer\", \"treatment\", \"treatment\", \"tremor\", \"trigger\", \"try\", \"try\", \"try\", \"try\", \"ubiome\", \"update\", \"update\", \"update\", \"use\", \"use\", \"use\", \"use\", \"user\", \"user\", \"utility\", \"variability\", \"vegetable\", \"version\", \"version\", \"video\", \"viewer\", \"vitamin\", \"wake\", \"wake\", \"want\", \"want\", \"want\", \"want\", \"wash\", \"watch\", \"watch\", \"watch\", \"watch\", \"water\", \"water\", \"water\", \"way\", \"way\", \"way\", \"way\", \"wear\", \"wear\", \"wearable\", \"wearable\", \"web\", \"week\", \"week\", \"week\", \"week\", \"weight\", \"weight\", \"weight\", \"well\", \"well\", \"well\", \"well\", \"well\", \"window\", \"window\", \"window\", \"work\", \"work\", \"work\", \"work\", \"worker\", \"workplace\", \"world\", \"world\", \"would\", \"would\", \"would\", \"would\", \"would\", \"wrist\", \"year\", \"year\", \"year\", \"year\", \"year\"]}, \"R\": 30, \"lambda.step\": 0.01, \"plot.opts\": {\"xlab\": \"PC1\", \"ylab\": \"PC2\"}, \"topic.order\": [8, 6, 11, 4, 3, 10, 9, 2, 5, 7, 1]};\n",
       "\n",
       "function LDAvis_load_lib(url, callback){\n",
       "  var s = document.createElement('script');\n",
       "  s.src = url;\n",
       "  s.async = true;\n",
       "  s.onreadystatechange = s.onload = callback;\n",
       "  s.onerror = function(){console.warn(\"failed to load library \" + url);};\n",
       "  document.getElementsByTagName(\"head\")[0].appendChild(s);\n",
       "}\n",
       "\n",
       "if(typeof(LDAvis) !== \"undefined\"){\n",
       "   // already loaded: just create the visualization\n",
       "   !function(LDAvis){\n",
       "       new LDAvis(\"#\" + \"ldavis_el892221403431659746721251839371\", ldavis_el892221403431659746721251839371_data);\n",
       "   }(LDAvis);\n",
       "}else if(typeof define === \"function\" && define.amd){\n",
       "   // require.js is available: use it to load d3/LDAvis\n",
       "   require.config({paths: {d3: \"https://d3js.org/d3.v5\"}});\n",
       "   require([\"d3\"], function(d3){\n",
       "      window.d3 = d3;\n",
       "      LDAvis_load_lib(\"https://cdn.jsdelivr.net/gh/bmabey/pyLDAvis@3.3.1/pyLDAvis/js/ldavis.v3.0.0.js\", function(){\n",
       "        new LDAvis(\"#\" + \"ldavis_el892221403431659746721251839371\", ldavis_el892221403431659746721251839371_data);\n",
       "      });\n",
       "    });\n",
       "}else{\n",
       "    // require.js not available: dynamically load d3 & LDAvis\n",
       "    LDAvis_load_lib(\"https://d3js.org/d3.v5.js\", function(){\n",
       "         LDAvis_load_lib(\"https://cdn.jsdelivr.net/gh/bmabey/pyLDAvis@3.3.1/pyLDAvis/js/ldavis.v3.0.0.js\", function(){\n",
       "                 new LDAvis(\"#\" + \"ldavis_el892221403431659746721251839371\", ldavis_el892221403431659746721251839371_data);\n",
       "            })\n",
       "         });\n",
       "}\n",
       "</script>"
      ],
      "text/plain": [
       "<IPython.core.display.HTML object>"
      ]
     },
     "execution_count": 41,
     "metadata": {},
     "output_type": "execute_result"
    }
   ],
   "source": [
    "vis_data = pyLDAvis.gensim_models.prepare(optimal_model, corpus, id2word,mds='mmds')\n",
    "pyLDAvis.display(vis_data)"
   ]
  }
 ],
 "metadata": {
  "deepnote": {
   "is_reactive": false
  },
  "deepnote_execution_queue": [],
  "deepnote_notebook_id": "6cb9534f-15ef-4cbf-98b4-ddfa6f4b40ef",
  "kernelspec": {
   "display_name": "Python 3",
   "language": "python",
   "name": "python3"
  },
  "language_info": {
   "codemirror_mode": {
    "name": "ipython",
    "version": 3
   },
   "file_extension": ".py",
   "mimetype": "text/x-python",
   "name": "python",
   "nbconvert_exporter": "python",
   "pygments_lexer": "ipython3",
   "version": "3.9.1"
  }
 },
 "nbformat": 4,
 "nbformat_minor": 2
}
